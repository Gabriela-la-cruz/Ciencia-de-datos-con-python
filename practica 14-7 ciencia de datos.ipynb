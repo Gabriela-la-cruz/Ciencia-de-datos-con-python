{
 "cells": [
  {
   "cell_type": "code",
   "execution_count": null,
   "id": "054294c2",
   "metadata": {},
   "outputs": [],
   "source": [
    "import pandas as pd \n",
    "# para cargar un fichero csv no necesito instalar ninguna libreria adicional \n",
    "january2019 = pd.read_csv(r\"C:\\Users\\formacio\\Downloads\\January 2019 (1).csv\")\n",
    "january2019"
   ]
  },
  {
   "cell_type": "code",
   "execution_count": null,
   "id": "ec6ef952",
   "metadata": {},
   "outputs": [],
   "source": [
    "#Para ver informacion del dataframe \n",
    "january2019.info()"
   ]
  },
  {
   "cell_type": "code",
   "execution_count": null,
   "id": "3193e9a6",
   "metadata": {},
   "outputs": [],
   "source": [
    "#Para ver los primeros n registros (empezando desde el 0)\n",
    "january2019.head(6)"
   ]
  },
  {
   "cell_type": "code",
   "execution_count": null,
   "id": "358c331e",
   "metadata": {},
   "outputs": [],
   "source": [
    "#Para ver los ultimos n registros (empezando desde el 0)\n",
    "january2019.tail(3)"
   ]
  },
  {
   "cell_type": "code",
   "execution_count": null,
   "id": "58e97e92",
   "metadata": {},
   "outputs": [],
   "source": [
    "#Para ver solo 1 registro\n",
    "january2019['Country']\n",
    "#de ese registro ver los primeros 5\n",
    "january2019['Country'].head(5)\n",
    "# Muestra los primeros 5 registros y luego ordenas de arriba abajo\n",
    "january2019['Country'].head(5).sort_values(ascending=True)\n",
    "#Si los quiero primero ordenar y luego muestra los primeros 5 de ese orden \n",
    "january2019['Country'].sort_values(ascending=True).head(5)"
   ]
  },
  {
   "cell_type": "code",
   "execution_count": null,
   "id": "ee5d092f",
   "metadata": {},
   "outputs": [],
   "source": [
    "# Crear una columna y despues la vamos a eliminar\n",
    "january2019['AEliminar'] = \"AEliminar\"\n",
    "january2019"
   ]
  },
  {
   "cell_type": "code",
   "execution_count": null,
   "id": "1840543a",
   "metadata": {},
   "outputs": [],
   "source": [
    "#como eliminar una columna, con axis=1 eliminamos columnas y con axis=0 eliminamos filas\n",
    "january2019 = january2019.drop(['AEliminar'],axis=1)\n",
    "january2019"
   ]
  },
  {
   "cell_type": "code",
   "execution_count": null,
   "id": "81641ed8",
   "metadata": {},
   "outputs": [],
   "source": [
    "# Si queremos eliminar sin poner el dataframe a la izquierda, puedo usar el inplace \n",
    "january2019.drop(['AEliminar'], axis=1,inplace=True)\n",
    "january2019"
   ]
  },
  {
   "cell_type": "code",
   "execution_count": null,
   "id": "92d52cac",
   "metadata": {},
   "outputs": [],
   "source": [
    "# Si quiero ordenar un dataframe entero por un campo \n",
    "january2019.sort_values(ascending=True, by='Customer', ignore_index=True)"
   ]
  },
  {
   "cell_type": "code",
   "execution_count": null,
   "id": "dfe54c0d",
   "metadata": {},
   "outputs": [],
   "source": [
    "#Ver los 3 primero registros cuyas unidades (Units) sean mayor de 100\n",
    "january2019[january2019['Units']>100].sort_values(ascending=True, by='IdOrder').head(3)"
   ]
  },
  {
   "cell_type": "code",
   "execution_count": null,
   "id": "f4d95250",
   "metadata": {},
   "outputs": [],
   "source": [
    " # un accesor es un metodo que se llama mediante la anotacion de un punto y nos muestra otrdo metodos relacionados con el accesor\n",
    "# Ver los registros cuyo nombre custumers contenga la palabra industries \n",
    "# el accesor str\n",
    "filtro = january2019['Customer'].str.contains('Industries')\n",
    "january2019[filtro].tail(10)"
   ]
  },
  {
   "cell_type": "code",
   "execution_count": null,
   "id": "be5c0557",
   "metadata": {},
   "outputs": [],
   "source": [
    "#El wildcard el comodin\n",
    "#c.* que contiene la c y cualquier cosa\n",
    "filtro = january2019['Customer'].str.contains('c.*')\n",
    "january2019[filtro]"
   ]
  },
  {
   "cell_type": "code",
   "execution_count": null,
   "id": "7e4043b9",
   "metadata": {},
   "outputs": [],
   "source": [
    "# Startswith empieza por C\n",
    "filtro = january2019['Customer'].str.startswith('C')"
   ]
  },
  {
   "cell_type": "code",
   "execution_count": null,
   "id": "3f87439e",
   "metadata": {},
   "outputs": [],
   "source": [
    "#endswith termina por s tiene que ser minuscula o mayuscula porque no distingue \n",
    "filtro = january2019['Customer'].str.endswith('s')\n",
    "january2019[filtro]\n",
    "                                        "
   ]
  },
  {
   "cell_type": "code",
   "execution_count": null,
   "id": "4104451d",
   "metadata": {},
   "outputs": [],
   "source": [
    "import pandas as pd \n",
    "february2019 = pd.read_csv(r\"C:\\Users\\formacio\\Downloads\\February 2019 (1).csv\")\n",
    "february2019"
   ]
  },
  {
   "cell_type": "code",
   "execution_count": null,
   "id": "9d0e176b",
   "metadata": {},
   "outputs": [],
   "source": [
    "# Como anexar 2 dataframes, anexar significa poner filas una debajo de otras, \n",
    "#para anexar usaremos concat (pero los dos dataframes deben tener la misma estructura\n",
    "#es decir mismo numeros de columnas y mismos nombres de campo)\n",
    "dosmeses = pd.concat([january2019, february2019],ignore_index=True)\n",
    "dosmeses"
   ]
  },
  {
   "cell_type": "code",
   "execution_count": null,
   "id": "b38f6b75",
   "metadata": {},
   "outputs": [],
   "source": [
    "# Practica 26 \n",
    "# Clonar el dataframe january2019 que contenga solamente los customers cuyo nombre contenga la palabra systems y ordenarlos de la A-Z\n",
    "filtro = january2019['Customer'].str.contains('Systems')\n",
    "january20192 = january2019[filtro].sort_values(ascending=True, by='Customer')\n",
    "january20192\n",
    "\n",
    "#asi lo hice yo \n",
    "#january20192 = january2019 ['Customer'].str.contains('Systems.*').sort_values(ascending=True)\n",
    "#january2019[january20192]"
   ]
  },
  {
   "cell_type": "code",
   "execution_count": null,
   "id": "08ae8253",
   "metadata": {},
   "outputs": [],
   "source": [
    "#Practica 27\n",
    "# Del dataframe dosmeses ver en un texto el numero de customers cuyo nombre termina por n \n",
    "filtro = dosmeses['Customer'].str.endswith('n')\n",
    "numero_customers = dosmeses[filtro].IdOrder.count()\n",
    "print(\"El  numero de clientes que termina por n es\", numero_customers)\n",
    "\n",
    "#dosmeses2 = dosmeses['Customer'].str.endswith('n')\n",
    "#dosmeses[dosmeses2]"
   ]
  },
  {
   "cell_type": "code",
   "execution_count": null,
   "id": "18263d20",
   "metadata": {},
   "outputs": [],
   "source": [
    "#Practica 28 \n",
    "# del dataframe dosmeses ver los 10 primeros customers cuyo country sea = canada \n",
    "dosmeses[dosmeses['Country']=='Canada'].head(10)\n",
    "\n",
    "\n",
    "#dosmeses2 = dosmeses['Country'].str.contains('Canada')\n",
    "#dosmeses[dosmeses2].sort_values(ascending=True, by='Customer').head(10)\n"
   ]
  },
  {
   "cell_type": "code",
   "execution_count": null,
   "id": "c69386df",
   "metadata": {},
   "outputs": [
    {
     "data": {
      "text/html": [
       "<div>\n",
       "<style scoped>\n",
       "    .dataframe tbody tr th:only-of-type {\n",
       "        vertical-align: middle;\n",
       "    }\n",
       "\n",
       "    .dataframe tbody tr th {\n",
       "        vertical-align: top;\n",
       "    }\n",
       "\n",
       "    .dataframe thead th {\n",
       "        text-align: right;\n",
       "    }\n",
       "</style>\n",
       "<table border=\"1\" class=\"dataframe\">\n",
       "  <thead>\n",
       "    <tr style=\"text-align: right;\">\n",
       "      <th></th>\n",
       "      <th>IdOrder</th>\n",
       "      <th>Date</th>\n",
       "      <th>Country</th>\n",
       "      <th>Units</th>\n",
       "      <th>Revenue</th>\n",
       "      <th>Customer</th>\n",
       "      <th>Descuento</th>\n",
       "    </tr>\n",
       "  </thead>\n",
       "  <tbody>\n",
       "    <tr>\n",
       "      <th>12</th>\n",
       "      <td>13</td>\n",
       "      <td>2019-01-15</td>\n",
       "      <td>Colombia</td>\n",
       "      <td>201</td>\n",
       "      <td>2827.21</td>\n",
       "      <td>BiffCo</td>\n",
       "      <td>0.0563</td>\n",
       "    </tr>\n",
       "    <tr>\n",
       "      <th>13</th>\n",
       "      <td>14</td>\n",
       "      <td>2019-01-19</td>\n",
       "      <td>Colombia</td>\n",
       "      <td>142</td>\n",
       "      <td>2249.46</td>\n",
       "      <td>OCP</td>\n",
       "      <td>0.0563</td>\n",
       "    </tr>\n",
       "    <tr>\n",
       "      <th>16</th>\n",
       "      <td>17</td>\n",
       "      <td>2019-01-15</td>\n",
       "      <td>Colombia</td>\n",
       "      <td>392</td>\n",
       "      <td>15315.91</td>\n",
       "      <td>Cyberdyne Systems</td>\n",
       "      <td>0.0563</td>\n",
       "    </tr>\n",
       "    <tr>\n",
       "      <th>17</th>\n",
       "      <td>18</td>\n",
       "      <td>2019-01-30</td>\n",
       "      <td>Colombia</td>\n",
       "      <td>60</td>\n",
       "      <td>1180.37</td>\n",
       "      <td>Abstergo Industries</td>\n",
       "      <td>0.0563</td>\n",
       "    </tr>\n",
       "    <tr>\n",
       "      <th>20</th>\n",
       "      <td>21</td>\n",
       "      <td>2019-01-11</td>\n",
       "      <td>Colombia</td>\n",
       "      <td>175</td>\n",
       "      <td>7399.56</td>\n",
       "      <td>BiffCo</td>\n",
       "      <td>0.0563</td>\n",
       "    </tr>\n",
       "    <tr>\n",
       "      <th>...</th>\n",
       "      <td>...</td>\n",
       "      <td>...</td>\n",
       "      <td>...</td>\n",
       "      <td>...</td>\n",
       "      <td>...</td>\n",
       "      <td>...</td>\n",
       "      <td>...</td>\n",
       "    </tr>\n",
       "    <tr>\n",
       "      <th>702</th>\n",
       "      <td>703</td>\n",
       "      <td>2019-03-17</td>\n",
       "      <td>Colombia</td>\n",
       "      <td>249</td>\n",
       "      <td>4109.78</td>\n",
       "      <td>Nakatomi Trading</td>\n",
       "      <td>0.0563</td>\n",
       "    </tr>\n",
       "    <tr>\n",
       "      <th>708</th>\n",
       "      <td>709</td>\n",
       "      <td>2019-03-06</td>\n",
       "      <td>Colombia</td>\n",
       "      <td>225</td>\n",
       "      <td>8728.95</td>\n",
       "      <td>Hexagon Global</td>\n",
       "      <td>0.0563</td>\n",
       "    </tr>\n",
       "    <tr>\n",
       "      <th>709</th>\n",
       "      <td>710</td>\n",
       "      <td>2019-03-12</td>\n",
       "      <td>Colombia</td>\n",
       "      <td>26</td>\n",
       "      <td>334.90</td>\n",
       "      <td>Globex Corporation</td>\n",
       "      <td>0.0563</td>\n",
       "    </tr>\n",
       "    <tr>\n",
       "      <th>711</th>\n",
       "      <td>712</td>\n",
       "      <td>2019-03-31</td>\n",
       "      <td>Colombia</td>\n",
       "      <td>240</td>\n",
       "      <td>137.14</td>\n",
       "      <td>Stark Industries</td>\n",
       "      <td>0.0563</td>\n",
       "    </tr>\n",
       "    <tr>\n",
       "      <th>714</th>\n",
       "      <td>715</td>\n",
       "      <td>2019-03-17</td>\n",
       "      <td>Colombia</td>\n",
       "      <td>212</td>\n",
       "      <td>291.85</td>\n",
       "      <td>Umbrella Corp</td>\n",
       "      <td>0.0563</td>\n",
       "    </tr>\n",
       "  </tbody>\n",
       "</table>\n",
       "<p>145 rows × 7 columns</p>\n",
       "</div>"
      ],
      "text/plain": [
       "     IdOrder        Date   Country  Units   Revenue             Customer  \\\n",
       "12        13  2019-01-15  Colombia    201   2827.21               BiffCo   \n",
       "13        14  2019-01-19  Colombia    142   2249.46                  OCP   \n",
       "16        17  2019-01-15  Colombia    392  15315.91    Cyberdyne Systems   \n",
       "17        18  2019-01-30  Colombia     60   1180.37  Abstergo Industries   \n",
       "20        21  2019-01-11  Colombia    175   7399.56               BiffCo   \n",
       "..       ...         ...       ...    ...       ...                  ...   \n",
       "702      703  2019-03-17  Colombia    249   4109.78     Nakatomi Trading   \n",
       "708      709  2019-03-06  Colombia    225   8728.95       Hexagon Global   \n",
       "709      710  2019-03-12  Colombia     26    334.90   Globex Corporation   \n",
       "711      712  2019-03-31  Colombia    240    137.14     Stark Industries   \n",
       "714      715  2019-03-17  Colombia    212    291.85        Umbrella Corp   \n",
       "\n",
       "     Descuento  \n",
       "12      0.0563  \n",
       "13      0.0563  \n",
       "16      0.0563  \n",
       "17      0.0563  \n",
       "20      0.0563  \n",
       "..         ...  \n",
       "702     0.0563  \n",
       "708     0.0563  \n",
       "709     0.0563  \n",
       "711     0.0563  \n",
       "714     0.0563  \n",
       "\n",
       "[145 rows x 7 columns]"
      ]
     },
     "execution_count": 91,
     "metadata": {},
     "output_type": "execute_result"
    }
   ],
   "source": [
    "#Practica 29\n",
    "#Obtener el dataframe trimestre (january a March y ver en un texto la suma total de revenue \n",
    "# despues de aplicar un descuento  del 5,63% si el country es 'Colombnia')\n",
    "\n",
    "import pandas as pd \n",
    "march2019 = pd.read_csv(r\"C:\\Users\\formacio\\Downloads\\March 2019 (1).csv\")\n",
    "\n",
    "trimestre = pd.concat([january2019, february2019, march2019],ignore_index=True)\n",
    "\n",
    "def descuento(pais):\n",
    "    if pais == 'Colombia':\n",
    "        return 0.0563\n",
    "    else:\n",
    "        return 0\n",
    "\n",
    "trimestre['Descuento'] = trimestre['Country'].apply(descuento)\n",
    "trimestre['Revenue'] = round(trimestre['Revenue']*(1-trimestre['Descuento']),2)\n",
    "trimestre.Revenue.sum()\n",
    "\n",
    "pais = trimestre['Country'].str.contains('Colombia')\n",
    "trimestre[pais]\n",
    "\n",
    "#pedidos['Precio Unidad 3'] = round(pedidos['Precio Unidad']*1.15,2)\n",
    "\n",
    "#january2019[january2019['Units']>100].sort_values(ascending=True, by='IdOrder').head(3)"
   ]
  },
  {
   "cell_type": "code",
   "execution_count": 83,
   "id": "aec17ff2",
   "metadata": {},
   "outputs": [
    {
     "name": "stdout",
     "output_type": "stream",
     "text": [
      "La suma aplicando dto a los pedidos de colombia es 4826007.06\n"
     ]
    },
    {
     "name": "stderr",
     "output_type": "stream",
     "text": [
      "C:\\Users\\formacio\\AppData\\Local\\Temp\\ipykernel_768\\977036884.py:10: SettingWithCopyWarning: \n",
      "A value is trying to be set on a copy of a slice from a DataFrame.\n",
      "Try using .loc[row_indexer,col_indexer] = value instead\n",
      "\n",
      "See the caveats in the documentation: https://pandas.pydata.org/pandas-docs/stable/user_guide/indexing.html#returning-a-view-versus-a-copy\n",
      "  trimestrec['Revenue'] = trimestrec['Revenue']*1-0.01563\n"
     ]
    }
   ],
   "source": [
    "# Otra solucion del 29 \n",
    "\n",
    "#tener un dataframe con los clientes de colombia\n",
    "trimestrec = trimestre[trimestre['Country']=='Colombia']\n",
    "\n",
    "#tener otro dataframe con los clientes que no son de colombia\n",
    "trimestrenc = trimestre[trimestre['Country']!='Colombia'] \n",
    "\n",
    "#el descuento al dataframe de colombia dek 5.63%\n",
    "trimestrec['Revenue'] = trimestrec['Revenue']*1-0.01563\n",
    "\n",
    "#concateno\n",
    "resultado = pd.concat([trimestrec,trimestrenc], ignore_index=True)\n",
    "print(\"La suma aplicando dto a los pedidos de colombia es\", round(resultado['Revenue'].sum(),2))"
   ]
  }
 ],
 "metadata": {
  "kernelspec": {
   "display_name": "Python 3",
   "language": "python",
   "name": "python3"
  },
  "language_info": {
   "codemirror_mode": {
    "name": "ipython",
    "version": 3
   },
   "file_extension": ".py",
   "mimetype": "text/x-python",
   "name": "python",
   "nbconvert_exporter": "python",
   "pygments_lexer": "ipython3",
   "version": "3.13.2"
  }
 },
 "nbformat": 4,
 "nbformat_minor": 5
}
