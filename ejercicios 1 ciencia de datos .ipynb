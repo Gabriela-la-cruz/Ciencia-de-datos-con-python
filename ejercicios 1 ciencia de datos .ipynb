{
 "cells": [
  {
   "cell_type": "markdown",
   "id": "bdf2e799",
   "metadata": {},
   "source": [
    "PRACTICA 2\n",
    "MEDIANTE UNA ESTRUCTURA IF.....ELSE \n",
    "MOSTRAR UN MENSAJE QUE PONGA El numero entero x es mas grande de 20 \n",
    "O El numero x no es mas grande de 20 \n",
    "SI EL VALOR DE X LO ASIGNAMOS MEDIANTE UN INPUT BOX \n",
    "\n",
    "PRACTICA 3\n",
    "MEDIANTE UNA ESTRUCTURA IF.....ELSE \n",
    "MOSTRAR UN MENSAJE QUE PONGA El numero decimal x es mas grande de 20 \n",
    "O El numero x no es mas grande de 20 \n",
    "SI EL VALOR DE X LO ASIGNAMOS MEDIANTE UN INPUT BOX \n",
    "\n",
    "PRACTICA 4\n",
    "MEDIANTE UNA ESTRUCTURA IF.....ELSE \n",
    "CLASIFICAR UN NUMERO ENTERO OBTENIDO POR UN INPUTBOX QUE NOS LO CLASIFIQUE POR MULTIPLOS DE 25 \n",
    "\"El 37 esta comprendido entre 25-50, EMPEZANDO POR EL 0 Y TERMNINADO POR EL 100, \n",
    "FUERA DE ESE RANGO MOSTRAR UN MENSAJE \"Numero no valido\""
   ]
  },
  {
   "cell_type": "code",
   "execution_count": 15,
   "id": "889396b6",
   "metadata": {},
   "outputs": [
    {
     "name": "stdout",
     "output_type": "stream",
     "text": [
      "El numero 25 es mayor de 20\n"
     ]
    }
   ],
   "source": [
    "numero_entero = int(input(\"Escribe un numero\"))\n",
    "if numero_entero > 20:\n",
    "    print(\"El numero\", numero_entero, \"es mayor de 20\")\n",
    "else:\n",
    "    print(\"El numero\", numero_entero, \"no es mayor de 20 \")"
   ]
  },
  {
   "cell_type": "code",
   "execution_count": null,
   "id": "54d99c6e",
   "metadata": {},
   "outputs": [
    {
     "name": "stdout",
     "output_type": "stream",
     "text": [
      "El numero no es mas grande de 20 \n"
     ]
    }
   ],
   "source": [
    "numero_decimal = float(input(\"Escribe un numero\"))\n",
    "if numero_decimal > 20:\n",
    "    print(\"El numero es mayor de 20\")\n",
    "else:\n",
    "    print(\"El numero no es mayor 20 \")"
   ]
  },
  {
   "cell_type": "code",
   "execution_count": null,
   "id": "2df22585",
   "metadata": {},
   "outputs": [
    {
     "name": "stdout",
     "output_type": "stream",
     "text": [
      "El numero esta comprendido entre > 25-50\n"
     ]
    }
   ],
   "source": [
    "numero = int(input(\"escribe un numero\"))\n",
    "if numero < 0:\n",
    "    print(\"Numero no valido\")\n",
    "elif numero <= 25:\n",
    "    print(\"El numero esta comprendido entre 0-25\")\n",
    "elif numero <= 50:\n",
    "    print(\"El numero esta comprendido entre > 25-50\")\n",
    "elif numero <= 75:\n",
    "    print(\"El numero esta comprendido entre > 50-75\")\n",
    "elif numero <= 75:\n",
    "    print(\"El numero esta comprendido entre 75-100\")\n",
    "else:\n",
    "    print(\"Numero no valido\")\n",
    "\n",
    "# las funciones de logica OR y AND la funcion or devuelve verdadero si se cumple una de las condiciones que se analiza\n",
    "# la funcion and devuelve su se cumplen todas las condiciones que se analizan\n",
    "    "
   ]
  },
  {
   "cell_type": "code",
   "execution_count": null,
   "id": "01ff4d1b",
   "metadata": {},
   "outputs": [],
   "source": [
    "# Me falto copiarlo\n",
    "\n",
    "numero = int(input(\"escribe un numero\"))\n",
    "if numero < 0 or numero\n",
    "    print(\"Numero no valido\")\n",
    "elif numero <= 25:\n",
    "    print(\"El numero esta comprendido entre 0-25\")\n",
    "elif numero <= 50:\n",
    "    print(\"El numero esta comprendido entre > 25-50\")\n",
    "elif numero <= 75:\n",
    "    print(\"El numero esta comprendido entre > 50-75\")\n",
    "elif numero <= 75:\n",
    "    print(\"El numero esta comprendido entre 75-100\")\n",
    "else:\n",
    "    print(\"Numero no valido\")"
   ]
  },
  {
   "cell_type": "code",
   "execution_count": 22,
   "id": "99bdb856",
   "metadata": {},
   "outputs": [],
   "source": [
    "#comparar 2 valores con la variable \n",
    "\n",
    "x = 51\n",
    "if 0 <= x <= 50:\n",
    "    print(\"Todos los numeros entre 0-50\")\n",
    "\n",
    "#Otra manera de clasificar un tramo \n",
    "\n",
    "if x >= 0 and x <=50:\n",
    "        print(\"Todos los numeros entre 0-50\")"
   ]
  },
  {
   "cell_type": "code",
   "execution_count": null,
   "id": "edd9ef3b",
   "metadata": {},
   "outputs": [],
   "source": [
    "# La estructura match...case, solo disponible antes de la version 3.10 de python \n",
    "# Solo para valores exactos\n",
    "x = 5\n",
    "match x:\n",
    "    case 1:\n",
    "        print (\"Vale 1\")\n",
    "    case 2:\n",
    "        print (\"vale 6\")\n",
    "    case default:\n",
    "        print(\"ninguno cumple\")"
   ]
  }
 ],
 "metadata": {
  "kernelspec": {
   "display_name": "Python 3",
   "language": "python",
   "name": "python3"
  },
  "language_info": {
   "codemirror_mode": {
    "name": "ipython",
    "version": 3
   },
   "file_extension": ".py",
   "mimetype": "text/x-python",
   "name": "python",
   "nbconvert_exporter": "python",
   "pygments_lexer": "ipython3",
   "version": "3.13.2"
  }
 },
 "nbformat": 4,
 "nbformat_minor": 5
}
