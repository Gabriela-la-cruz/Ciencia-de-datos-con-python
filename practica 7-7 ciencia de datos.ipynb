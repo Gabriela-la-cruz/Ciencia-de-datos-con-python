{
 "cells": [
  {
   "cell_type": "code",
   "execution_count": null,
   "id": "a80c87b8",
   "metadata": {},
   "outputs": [],
   "source": [
    "#Practica 15\n",
    "def comparaab(a,b):\n",
    "    if a>b:\n",
    "        print(\"el numero a\",a,\"es mayor que b\",b)\n",
    "    elif a<b:\n",
    "        print(\"el numero a\",a,\"es menor que b\",b)\n",
    "    else:\n",
    "        print(\"el numero a\",a,\"es igual que el numero b\",b)\n",
    "#Aqui termina mi función. Ahora hago la llamada"
   ]
  },
  {
   "cell_type": "code",
   "execution_count": null,
   "id": "95c401ff",
   "metadata": {},
   "outputs": [],
   "source": [
    "#Para ver el Kernel, solo en Jupyter\n",
    "%whos"
   ]
  },
  {
   "cell_type": "code",
   "execution_count": null,
   "id": "dc30a816",
   "metadata": {},
   "outputs": [],
   "source": [
    "comparaab(16,16)"
   ]
  },
  {
   "cell_type": "markdown",
   "id": "c51f24b8",
   "metadata": {},
   "source": [
    "Las clases en Python, una clase es como una plantilla, que puedo usar para crear un objeto que hereda sus metodos y atributos, una clase tiene 3 elementos, metodos especiales, son los que se necesitan para configurar la clase, nombre un metodo especial de una clase, metodos que son funciones asociadas a la clase, que se llaman mediante la anotación de un punto, atributos que son propiedades, con la palabra clave class"
   ]
  },
  {
   "cell_type": "code",
   "execution_count": null,
   "id": "ac9d15ce",
   "metadata": {},
   "outputs": [],
   "source": [
    "class persona:\n",
    "    #Vamos a iniciar la clase con un metodo especial, __init__, usaremos el parametro self\n",
    "    #el mismo objeto\n",
    "    def __init__(self, nombre, edad, estatura):\n",
    "        self.nombre = nombre        #Esto es el atributo nombre\n",
    "        self.edad = edad            #Esto es el atributo edad\n",
    "        self.estatura = estatura    #Esto es el atributo estatura\n",
    "    #Esto ya es un metodo\n",
    "    def saludo(self):\n",
    "        print(\"Hola, soy\", self.nombre, \", tengo\", self.edad, \"años y mido\", self.estatura)\n",
    "    \n",
    "    def animo(self):\n",
    "        print(self.nombre,\"eres el mejor, hoy batiras tu record de ventas\")"
   ]
  },
  {
   "cell_type": "code",
   "execution_count": null,
   "id": "a819d540",
   "metadata": {},
   "outputs": [],
   "source": [
    "#Crear una instancia de la clase persona\n",
    "persona1 = persona(\"Andres Gomez\",44,1.75)\n",
    "persona1.saludo()\n",
    "persona1.animo()"
   ]
  },
  {
   "cell_type": "code",
   "execution_count": null,
   "id": "cb294deb",
   "metadata": {},
   "outputs": [],
   "source": [
    "persona2 = persona(\"Maria Cuevas\", 35, 1.68)\n",
    "persona2.saludo()\n",
    "persona2.animo()"
   ]
  },
  {
   "cell_type": "markdown",
   "id": "841b2b89",
   "metadata": {},
   "source": [
    "PRACTICA 16: CREAR UNA CLASE, CON LOS ATRIBUTOS marca, modelo, año, velocidad. Y QUE INCULYA DEMAS EL METODO DESCRIPCION (QUE DEVUELVA UNA DESCRIPCIÓN DE LAS CARACTERISTICAS DE UN COCHE), CREAR EL METODO VELOCIDAD MAXIMA, QUE NOS TIENE QUE DEVOLVER LA VELOCIDAD MENOS 14 KM/HORA DE LA VELOCIDAD DEL VEHICULO. PROBAR CON 2 O 3 INSTANCIAS DE LA CLASE\n",
    "\n",
    "PRACTICA 17: CREAR UNA CLASE RECTANGULO, CON ATRIBUTOS ancho y alto, QUE INCLUYA ADEMAS 2 METODOS AREA Y PERIMETRO. PROBAR CON 2 O 3 INSTANCIAS DE LA CLASE"
   ]
  },
  {
   "cell_type": "code",
   "execution_count": null,
   "id": "506ffba1",
   "metadata": {},
   "outputs": [],
   "source": [
    "#Practica 16\n",
    "class coche:\n",
    "    def __init__(self, marca, modelo, año, velocidad):\n",
    "        self.marca = marca\n",
    "        self.modelo = modelo\n",
    "        self.año = año\n",
    "        self.velocidad = velocidad\n",
    "    \n",
    "    def descripcion(self):\n",
    "        print(\"Mi marca de coche es\",self.marca,\", mi modelo es\",self.modelo,\n",
    "              \"y el año del coche es\",str(self.año)+'.',\"con una velocidad de\",self.velocidad)\n",
    "        \n",
    "    def velocidad_maxima(self):\n",
    "        print(\"La velocidad maxima teorica son 14 km/hora menos, es decir\",self.velocidad-14)"
   ]
  },
  {
   "cell_type": "code",
   "execution_count": null,
   "id": "82adde16",
   "metadata": {},
   "outputs": [],
   "source": [
    "#Aqui estoy creando la instancia de la clase coche\n",
    "coche1 = coche(marca=\"Renault\",modelo=\"Captur\",año=2023,velocidad=180)\n",
    "coche1.descripcion()\n",
    "coche1.velocidad_maxima()"
   ]
  },
  {
   "cell_type": "code",
   "execution_count": null,
   "id": "ddbad8c9",
   "metadata": {},
   "outputs": [],
   "source": [
    "#Practica 17 (Un metodo y una función son lo mismo, la unica diferencia es que el metodo para\n",
    "# ser llamado necesita una instancia de una clase, mas la anotacion de un punto)\n",
    "class rectangulo:\n",
    "    def __init__(self, alto, ancho):\n",
    "        self.alto = alto\n",
    "        self.ancho = ancho\n",
    "    #Metodo area\n",
    "    def area(self):\n",
    "        return self.alto * self.ancho\n",
    "    #Metodo perimetro (sumar la longitud de los 4 lados)\n",
    "    def perimetro(self):\n",
    "        return (self.alto + self.ancho) * 2\n",
    "#Crear la instancia\n",
    "rect1 = rectangulo(14,36)\n",
    "\n",
    "print(\"el area\",rect1.area())\n",
    "print(\"el perimetro\",rect1.perimetro())"
   ]
  },
  {
   "cell_type": "markdown",
   "id": "46670c7a",
   "metadata": {},
   "source": [
    "Las librerias de Python, hay una gran variedad de librerias nativas de pyhton. Estas nativas no necesitan que las instalemos aparte, math, statistics, random, textwrap, string, io, shutil, pathlib. Manipular fechas/horarios time (Operaciones con tiempo de bajo nivel) datetime (manipula fechas + horas) alto nivel, calendar. ¿Como llamar a una libreria?: Con 2 palabras clave, la primera seria import y la segunda from cuando uso import estoy importando toda la libreria import datetime Ahora con from solo importo una clase de una libreria from datetime import date as fecha El alias de una clase o libreria import datetime as fechas fechas.date.today() fecha.today()"
   ]
  },
  {
   "cell_type": "code",
   "execution_count": null,
   "id": "174f403e",
   "metadata": {},
   "outputs": [],
   "source": [
    "from datetime import date     #Solo me estoy importando una clase de la libreria datetime\n",
    "#Cuando uso la clase date solo puedo trabajar con fechas\n",
    "#Un objeto almacenara la fecha de hoy, que la voy a poner con la clase date\n",
    "hoy = date.today()\n",
    "print(hoy)\n",
    "#En su formato, año-mes-dia\n",
    "#Quiero trabajar con un alias\n",
    "from datetime import date as fecha\n",
    "hoy2 = fecha.today()\n",
    "print(hoy2)\n",
    "#Cuando creo una instancia, heredo sus atributos y metodos\n",
    "print(\"El dia de hoy es\",hoy.day)\n",
    "print(\"El mes de hoy es\",hoy.month)\n",
    "print(\"El año de hoy es\",hoy.year)\n",
    "#Tambien lo puedo llamar directamente\n",
    "print(\"Directamente; El dia de hoy es\",fecha.today().day)"
   ]
  },
  {
   "cell_type": "code",
   "execution_count": null,
   "id": "9e08958e",
   "metadata": {},
   "outputs": [],
   "source": [
    "#Si quiero trabajar con fechas + horas, tengo que seleccionar la clase datetime, \n",
    "# en vez de date\n",
    "from datetime import datetime\n",
    "ahora = datetime.now()       #Fecha + Hora actual\n",
    "print(ahora)\n",
    "#Tambien hereda los atributos de la clase datetime\n",
    "print(\"La hora actual es\",ahora.hour)\n",
    "print(\"Los minutos son\",ahora.minute)\n",
    "print(\"Los segundos son\",ahora.second)\n",
    "print(\"Los microsegundos son\",ahora.microsecond)"
   ]
  },
  {
   "cell_type": "code",
   "execution_count": null,
   "id": "0d84ba9e",
   "metadata": {},
   "outputs": [],
   "source": [
    "from datetime import date as fecha\n",
    "#Usando directamente el Alias de clase\n",
    "fecha1 = fecha(2025,11,22)\n",
    "print(\"La fecha alida es\",fecha1)\n",
    "#Una fecha mas nueva\n",
    "fecha2 = fecha(2025,12,16)\n",
    "\n",
    "if fecha2>fecha1:\n",
    "    print(\"La fecha2\",fecha2,\"es mas reciente que la fecha1\",fecha1)"
   ]
  },
  {
   "cell_type": "code",
   "execution_count": null,
   "id": "ed2fbe31",
   "metadata": {},
   "outputs": [],
   "source": [
    "#Como comparar 2 fechas, las dos deben ser de la misma clase, o las 2 date, o las 2 datetime\n",
    "#Cuando comparo 2 fechas, el resultado es en dias, el tiempo transcurrido se averigua\n",
    "#mediante una resta, entre la fecha + reciente y la + antigua\n",
    "dias = fecha2 - fecha1\n",
    "#Atributo de resta entre 2 fechas\n",
    "print(\"Los dias transcurridos entre las 2 fechas es\", dias.days)"
   ]
  },
  {
   "cell_type": "markdown",
   "id": "2c6a02db",
   "metadata": {},
   "source": [
    "PRACTICA 18: VAMOS A RESTAR 2 FECHAS, LA PRIMERA SERA 11/04/2025 Y LA SEGUNDA EL DIA DE HOY 07/07/2025, CON UNA ESTRUCTURA IF DEVOLVE REL TEXTO, \"DISTANCIA INFERIOR A 6 MESES\" SI EL NUMERO DE DIAS DE DIFERENCIA ES MENOR DE 180 DIAS\n",
    "\n",
    "PRACTICA 19: CREAR UNA FUNCIÓN QUE MEDIANTE UN INPUT, EN EL VAMOS A ESCRIBRIR UNA FECHA SEPARADA POR ÑA @, NOS AJUSTE EN UN OBJETO LA FECHA INDICADA. TENEMOS SPLIT PARA DIVIDIR UN TEXTO POR UN CARACTER"
   ]
  },
  {
   "cell_type": "code",
   "execution_count": null,
   "id": "e223111b",
   "metadata": {},
   "outputs": [],
   "source": [
    "#Practica 18\n",
    "from datetime import date   #De la libreria datetime importame la clase date\n",
    "fecha1 = date(2025,4,11)\n",
    "fecha2 = date.today()\n",
    "print(fecha1)\n",
    "print(fecha2)\n",
    "#Ajustar un objeto con la resta de las 2 fechas, primero la fecha + nueva y despues la +\n",
    "#antigua\n",
    "resultado = fecha2 - fecha1\n",
    "if resultado.days<180:\n",
    "    print(\"Distancia en dias es inferior a 6 meses, total dias:\",resultado.days)"
   ]
  },
  {
   "cell_type": "code",
   "execution_count": null,
   "id": "398080cc",
   "metadata": {},
   "outputs": [],
   "source": [
    "#El de Mercè\n",
    "from datetime import date\n",
    "data1 = date(2025,4,11)\n",
    "avui = date.today()\n",
    " \n",
    "print(data1)\n",
    "print(avui)\n",
    " \n",
    "temps_entre_dates = data1 - avui\n",
    "resultat_absolut = abs(temps_entre_dates) #abs s\n",
    " \n",
    "if resultat_absolut.days < 180:\n",
    "    print(\"Distància inferior a 6 mesos, total dies:\", resultat_absolut.days)"
   ]
  },
  {
   "cell_type": "code",
   "execution_count": null,
   "id": "9fb0c1b9",
   "metadata": {},
   "outputs": [],
   "source": [
    "#Practica 19:\n",
    "def pasamefecha(tiempo):\n",
    "    #Este parametro tiene que ser un string, espero mediante el input un valor asi\n",
    "    #11@07@2025\n",
    "    dato = tiempo.split('@')    #Genero una lista con 3 elementos, en el indice 0 los dias\n",
    "    #= int(dato[0]), en el indice 1 los meses = int(dato[1]), en el indice 2 los años = int(dato[2])\n",
    "    #Construir la fecha, para crear la fecha necesito pasarle año, mes y dia pero como\n",
    "    #numero, por eso se usa el int\n",
    "    from datetime import date\n",
    "    #por defecto es año, mes, dia\n",
    "    resultado = date(int(dato[2]),int(dato[1]), int(dato[0]))\n",
    "    resultado = date(month=int(dato[1]), year=int(dato[2]), day=int(dato[0]))\n",
    "    print(resultado)\n",
    "    \n",
    "#Llamo a la función\n",
    "pasamefecha(input(\"Coloca una entre @, ejemplo; dia@mes@año\"))"
   ]
  },
  {
   "cell_type": "code",
   "execution_count": null,
   "id": "beaaed62",
   "metadata": {},
   "outputs": [],
   "source": [
    "#Como dar formato a una fecha, usaremos el metodo strftime de la clase date, lo cual\n",
    "#significa que me devuelve un texto\n",
    "from datetime import date\n",
    "hoy = date.today()\n",
    "print(hoy)\n",
    "print(\"El dia de hoy es\",hoy.strftime('%d'))              #El dia en texto\n",
    "print(\"El dia de hoy en letras es\",hoy.strftime('%A'))    #El dia en letras, sale en english\n",
    "print(\"El dia de la semana es\",hoy.strftime('%w'))        #El dia de la semana del 1 al 7\n",
    "print(\"El mes de hoy es\",hoy.strftime('%m'))              #El mes en texto\n",
    "print(\"El mes en letras es\",hoy.strftime('%B'))           #El mes en letras entero\n",
    "print(\"El mes en letras abreviado es\",'\"'+hoy.strftime('%b')+'\"') #El mes en letras abreviado\n",
    "print(\"Los 2 ultimos digitos del año son\",hoy.strftime('%y'))     #Los 2 ultimos digitos del año\n",
    "print(\"El año entero es\",hoy.strftime('%Y'))                      #El año entero\n",
    "print(\"La semana del año es\",hoy.strftime('%W'))                  #Semana del año del 1 al 53\n",
    "#Puedo crear mi formato personalizado dd/mm/yyyy\n",
    "print(\"La fecha en formato personalizado es\",hoy.strftime('%d/%m/%Y'))\n",
    "print(\"La fecha en otro formato seria\",hoy.strftime('%A %B %Y'))"
   ]
  },
  {
   "cell_type": "code",
   "execution_count": null,
   "id": "f0d65bf2",
   "metadata": {},
   "outputs": [],
   "source": [
    "#Formato de las horas\n",
    "from datetime import datetime\n",
    "ahora = datetime.now()\n",
    "#Quiero ver la horae\n",
    "print(\"La hora es\",ahora.strftime('%H'))\n",
    "#Quiero ver los minutos\n",
    "print(\"Los minutos son\",ahora.strftime('%M'))\n",
    "#Quiero ver los segundos\n",
    "print(\"Los segundos son\", ahora.strftime('%S'))\n",
    "#Quiero ver un formato personalizado HH:MM:SS\n",
    "print(\"El formato personalizado es\",ahora.strftime('%H:%M:%S'))"
   ]
  },
  {
   "cell_type": "code",
   "execution_count": null,
   "id": "2622ae00",
   "metadata": {},
   "outputs": [],
   "source": [
    "#La clase timedelta de la libreria datetime, me permite incrementar o decrementar tiempo\n",
    "from datetime import datetime, timedelta\n",
    "hoy = datetime.today()\n",
    "#Quiero incrementar 10 dias\n",
    "resultado = hoy + timedelta(days=10)\n",
    "print(resultado.strftime('%d/%m/%Y'))"
   ]
  },
  {
   "cell_type": "code",
   "execution_count": null,
   "id": "92d05952",
   "metadata": {},
   "outputs": [],
   "source": [
    "#La clase timedelta de la libreria datetime, me permite incrementar o decrementar tiempo\n",
    "from datetime import datetime, timedelta\n",
    "hoy = datetime.today()\n",
    "#Quiero incrementar 10 dias\n",
    "resultado = hoy + timedelta(days=10, hours=8, minutes=20, seconds=30)\n",
    "print(resultado.strftime('%d/%m/%Y %H:%M:%S'))"
   ]
  },
  {
   "cell_type": "code",
   "execution_count": null,
   "id": "798e3dd5",
   "metadata": {},
   "outputs": [],
   "source": [
    "#La clase timedelta de la libreria datetime, me permite incrementar o decrementar tiempo\n",
    "from datetime import datetime, timedelta\n",
    "hoy = datetime.today()\n",
    "#Quiero decrementar 30 dias\n",
    "resultado = hoy + timedelta(days=-30, hours=8, minutes=20, seconds=30)\n",
    "print(resultado.strftime('%d/%m/%Y %H:%M:%S'))"
   ]
  },
  {
   "cell_type": "markdown",
   "id": "2e015cd3",
   "metadata": {},
   "source": [
    "Practica 20: TENDREMOS 4 LISTAS, LA PRIMERA CONTENDRA FECHAS, LA SEGUNDA CONTENDRA DIAS LA TERCERA CONTENDRA HORAS Y LA CUARTA CONTENDRA MINUTOS. QUEREMOS TENER EN UNA LISTA NUEVA EL RESULTADO FINAL, DESPUES DE HABER INCREMENTADO A LA PRIMERA LISTA (LA DE FECHAS), LA LISTA DE DIAS + LA LISTA DE HORAS + LA LISTA DE MINUTOS Y LO QUEREMOS EL RESULTADO EN ESTE FORMATI DD/MM/YYYY HH:MM LISTA1 = ['03/03/2024','15/07/2023','22/08/2025'] #FECHAS LISTA2 = [10,20,16] #DIAS LISTA3 = [7,12,8] #HORAS LISTA4 = [20,12,50] #MINUTOS CUANDO TENGO LA FECHA SOLO, EL TIEMPO ES 00:00:00 EL PRIMER ELEMENTO DE LA LISTA NUEVA \"13/03/2024 07:20\""
   ]
  },
  {
   "cell_type": "code",
   "execution_count": null,
   "id": "fdee97a5",
   "metadata": {},
   "outputs": [],
   "source": [
    "from datetime import datetime, timedelta\n",
    "#vamos a crear una lista que almacene los resultados que inicialmente estara vacia\n",
    "resultados = []\n",
    "#una variable para controlar el indice de la lista\n",
    "indice = 0\n",
    "LISTA1 = ['03/03/2024', '15/07/2023', '22/08/2025']  #FECHAS\n",
    "LISTA2 = [10,20,16]\n",
    "LISTA3 = [7,12,8]\n",
    "LISTA4 = [20,15,50]\n",
    "#El bucle for \n",
    "for fecha in LISTA1:\n",
    "    fecha_separada = fecha.split(\"/\")\n",
    "    #convertir a fecha\n",
    "    fecha_date = datetime(int(fecha_separada[2]),int(fecha_separada[1]), int(fecha_separada[0]))\n",
    "    fecha_formato = fecha_date + timedelta(days=LISTA2[indice],hours=LISTA3[indice], minutes=LISTA4[indice])\n",
    "    resultados.append(fecha_formato.strftime('%d/%m%Y %H:%M'))\n",
    "    inidce = indice + 1\n",
    "#termiando\n",
    "print(resultados)\n"
   ]
  }
 ],
 "metadata": {
  "kernelspec": {
   "display_name": "Python 3",
   "language": "python",
   "name": "python3"
  },
  "language_info": {
   "codemirror_mode": {
    "name": "ipython",
    "version": 3
   },
   "file_extension": ".py",
   "mimetype": "text/x-python",
   "name": "python",
   "nbconvert_exporter": "python",
   "pygments_lexer": "ipython3",
   "version": "3.13.2"
  }
 },
 "nbformat": 4,
 "nbformat_minor": 5
}
