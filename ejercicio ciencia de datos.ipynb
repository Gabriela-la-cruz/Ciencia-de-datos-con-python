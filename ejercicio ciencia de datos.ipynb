{
 "cells": [
  {
   "cell_type": "markdown",
   "id": "09b67957",
   "metadata": {},
   "source": [
    "PRACTICA 5\n",
    "\n",
    "Mediante una caja input + match.... case\n",
    "devolver el dia de la semama en letras, en funcion del nro obtenido del 1 a 7"
   ]
  },
  {
   "cell_type": "code",
   "execution_count": null,
   "id": "575b7ea2",
   "metadata": {},
   "outputs": [
    {
     "name": "stdout",
     "output_type": "stream",
     "text": [
      "Viernes\n"
     ]
    }
   ],
   "source": [
    "semana = int(input(\"Dime un numero entre el 1-7\"))\n",
    "match semana:\n",
    "    case 1:\n",
    "        print(\"Lunes\")\n",
    "    case 2:\n",
    "        print(\"Martes\")\n",
    "    case 3:\n",
    "        print(\"Miercoles\")\n",
    "    case 4:\n",
    "        print(\"Jueves\") \n",
    "    case 5:\n",
    "        print(\"Viernes\") \n",
    "    case 6:\n",
    "        print(\"Sabado\") \n",
    "    case 7:\n",
    "        print(\"Domingo\") \n",
    "    case default:\n",
    "        print(\"Numero no valido\")"
   ]
  },
  {
   "cell_type": "code",
   "execution_count": null,
   "id": "49e73311",
   "metadata": {},
   "outputs": [
    {
     "name": "stdout",
     "output_type": "stream",
     "text": [
      "El numero es 15\n",
      "El numero es 8\n",
      "El numero es 6\n",
      "El numero de iteraciones han sido 3\n"
     ]
    }
   ],
   "source": [
    "# Bucles, un bucle es un codigo que se repite hasta que se cumple una condicion dada \n",
    "# y por lo tanto vamos a tener dos tipos de bucles, los finitos (los que van a termianr si o si)\n",
    "# y los infinitos (puede que terminen o no)\n",
    "# los bucles seran finitos porque conocemos de antemano cuantas veces se repetiran \n",
    "# cada vez que se ejecuta el codigo es una \"iteración\" o cada vez que se repite el bucle \n",
    "# los bucles finitos siempre llevan asociada una variable\n",
    "\n",
    "# si quiero saber cuantas veces estoy iterando \n",
    "iter = 0\n",
    "for i in [15,8,6]:\n",
    "    print(\"El numero es\", i) \n",
    "    iter = iter + 1\n",
    "    iter += 1 # es lo mismo que lo de arriba\n",
    "print(\"El numero de iteraciones han sido\", iter)\n",
    "\n",
    "# esto se lee para cada valor de i que este dentro de la lista, imprime.......\n"
   ]
  }
 ],
 "metadata": {
  "kernelspec": {
   "display_name": "Python 3",
   "language": "python",
   "name": "python3"
  },
  "language_info": {
   "codemirror_mode": {
    "name": "ipython",
    "version": 3
   },
   "file_extension": ".py",
   "mimetype": "text/x-python",
   "name": "python",
   "nbconvert_exporter": "python",
   "pygments_lexer": "ipython3",
   "version": "3.13.2"
  }
 },
 "nbformat": 4,
 "nbformat_minor": 5
}
