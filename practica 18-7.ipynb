{
 "cells": [
  {
   "cell_type": "code",
   "execution_count": null,
   "id": "170ae232",
   "metadata": {},
   "outputs": [],
   "source": [
    "# Conectarnos al SQL Server con Python, para conectar a SQL Server, \n",
    "# necesitamos 2 librerías: pyodbc + SQLAlchemy\n",
    "# >pip install pyodbc  (escribir en el CMD)\n",
    "\n",
    "import pyodbc \n",
    "import pandas as pd\n",
    "\n",
    "# Necesito crear una cadena de conexión, tienen diferentes parámetros \n",
    "server = r\"M027619\\SQLEXPRESS\"   # Nombre del servidor (En el SSMS, arriba aparece el nombre (boton dch sobre él > Properties))\n",
    "database = \"Neptuno\"             # Nombre de la base de datos (que hemos descargado del github del curso - Neptuno.2003 II.mdb )\n",
    "trusted = \"yes\"                  # Mensaje que aparecía en SSMS - \"Trust Server Certificate\"\n",
    "\n",
    "# Vamos a montar la cadena de conexión con f.strings\n",
    "conn = (\n",
    "    f'DRIVER={{ODBC Driver 17 for SQL Server}};'               # El driver instalado - para saber cuales están instalados: pyodbc.drivers() \n",
    "    f'SERVER={server};'\n",
    "    f'DATABASE={database};'\n",
    "    f'TRUSTED_CONNECTION={trusted};'\n",
    ")\n",
    "conexion = pyodbc.connect(conn)\n",
    "print(\"Conectado con exito\")\n",
    "\n",
    "conexion = pyodbc.connect(conn)\n",
    "# Esto todo es lo que se usa si nos conectamos al SQL Server, si es una base de datos en otro servidor\n",
    "# puede variar el codigo, que no vaya trusted o algo \n",
    "\n",
    "#Voy a cargar un DataFrame con los pedidos \n",
    "pedidos = pd.read_sql(\"SELECT * FROM Pedidos\", conexion)\n",
    "print(pedidos)"
   ]
  },
  {
   "cell_type": "markdown",
   "id": "6627e956",
   "metadata": {},
   "source": [
    "Sentencias sql con SELECT\n",
    "SELECT * FROM pedidos = dame todos los campos de la tabla pedidos \n",
    "SELECT FechaPedido FROM Pedidos = me da un solo campo\n",
    "SELECT FechaPedido, Destinatario FROM Pedidos = dos campos de la tabla Pedidos\n",
    "SELECT FechaPedido as fecha FROM Pedidos = darle un alias al campo \n",
    "SELECT * FROM Pedidos order by Destinatario =  ordenar por un campo\n",
    "SELECT * FROM Pedidos order by Destinatario, PaisDestinatario =  ordenar por un campo, ASC o DESC\n",
    "SELECT * FROM Pedidos WHERE PaísDestinatario = 'Alemania'\n",
    "\"SELECT * FROM Pedidos WHERE PaísDestinatario = 'Alemania'\" En el marco de python\n",
    "SELECT * FROM Pedidos WHERE PaísDestinatario = 'Alemania'ORDER BY CiudadDestinatario\n",
    "SELECT * FROM Pedidos WHERE PaísDestinatario = 'Alemania' and FechaPedido > '25/01/2025'\n",
    "SELECT * FROM Pedidos WHERE PaísDestinatario = 'Alemania' or PaisDestinatario = 'Argentina'\n",
    "SELECT top 30 FROM Pedidos = Me mostrara los 30 primeros (en funcion del orden)\n",
    "SELECT * FROM [Detalles de pedidos] = Si hay espacios en blanco en la tabla, entre corchetes \n",
    "SELECT PrecioUnidad, Cantidad, (PrecioUnidad * Cantidad) as Importe FROM [Detalles de Pedidos]\n",
    "\n"
   ]
  },
  {
   "cell_type": "code",
   "execution_count": null,
   "id": "412226a7",
   "metadata": {},
   "outputs": [],
   "source": [
    "# PRACTICA 32.1:\n",
    "# Realizar un codigo que se conecte a nuestra base de datos neptuno en sql server \n",
    "# Cargaremos en un dataframe con una SQL los pedidos que sea de Francia y en otro dataframe los Detalles de Pedidos \n",
    "# calculando el Importe (PrecioUnidad * Cantidad), ver en un texto la suma de importe total \n",
    "\n",
    "import pyodbc \n",
    "import pandas as pd\n",
    "\n",
    "server = r\"M027619\\SQLEXPRESS\"   \n",
    "database = \"Neptuno\"            \n",
    "trusted = \"yes\"                  \n",
    "\n",
    "\n",
    "conn = (\n",
    "    f'DRIVER={{ODBC Driver 17 for SQL Server}};'             \n",
    "    f'SERVER={server};'\n",
    "    f'DATABASE={database};'\n",
    "    f'TRUSTED_CONNECTION={trusted};'\n",
    ")\n",
    "conexion = pyodbc.connect(conn)\n",
    "print(\"Conectado con exito\")\n",
    "\n",
    "conexion = pyodbc.connect(conn)\n",
    "\n",
    "pedidos = pd.read_sql(\"SELECT * FROM Pedidos WHERE PaísDestinatario = 'Francia'\", conexion)\n",
    "detalles_pedidos = pd.read_sql(\"SELECT PrecioUnidad, Cantidad,IdPedido, (PrecioUnidad*Cantidad) as Importe FROM [Detalles de pedidos];\",conexion)\n",
    "importe_total = pd.merge(pedidos,detalles_pedidos, on=\"IdPedido\", how=\"inner\")\n",
    "resultado = round(importe_total.Importe.sum(),2)\n",
    "print(\"el resultado es\", resultado)\n",
    "\n"
   ]
  },
  {
   "cell_type": "code",
   "execution_count": null,
   "id": "5d0766b6",
   "metadata": {},
   "outputs": [],
   "source": [
    "# PRACTICA 32.2\n",
    "# Cargaremos en un dataframe los 50 primeros registros de Pedidos que sean de Finlandia o Suiza y ver en un texto el nro de pedidos totales \n",
    "registros_pedidos = pd.read_sql(\"SELECT TOP 50 * FROM Pedidos WHERE PaísDestinatario = 'Finlandia' or PaísDestinatario = 'Suiza'\", conexion)\n",
    "\n",
    "suma_pedidos = registros_pedidos.IdPedido.count()\n",
    "\n",
    "print(\"el número de pedidos es\", suma_pedidos)"
   ]
  },
  {
   "cell_type": "code",
   "execution_count": null,
   "id": "05db5a78",
   "metadata": {},
   "outputs": [],
   "source": [
    "# Hacer una funcion para no tener que escribir el codigo todas las veces\n",
    "def conectar_SQL ():\n",
    "    import pyodbc \n",
    "    import pandas as pd\n",
    "\n",
    "    server = r\"M027619\\SQLEXPRESS\"   \n",
    "    database = \"Neptuno\"            \n",
    "    trusted = \"yes\"                  \n",
    "\n",
    "\n",
    "    conn = (\n",
    "    f'DRIVER={{ODBC Driver 17 for SQL Server}};'             \n",
    "    f'SERVER={server};'\n",
    "    f'DATABASE={database};'\n",
    "    f'TRUSTED_CONNECTION={trusted};'\n",
    "    )\n",
    "    conexion = pyodbc.connect(conn)\n",
    "\n",
    "print(\"Conectado con exito\")\n",
    "\n",
    "conexion = pyodbc.connect(conn)\n"
   ]
  },
  {
   "cell_type": "code",
   "execution_count": null,
   "id": "ea2774a3",
   "metadata": {},
   "outputs": [],
   "source": [
    "#PRACTICA 32.3\n",
    "# Realizar un codigo que se conecte a nuestra BBDD neptuno en sql sever \n",
    "# cargaremos las tablas necesarias para tenet en un dataframe de pandas \n",
    "# la suma del importe por nombre de categoria\n",
    "\n",
    "conectar_SQL\n",
    "conexion = pyodbc.connect(conn)\n",
    "\n",
    "importe_categoria = pd.read_sql(\"SELECT dbo.Categorías.NombreCategoría,\" \\\n",
    "\"dbo.[Detalles de pedidos].PrecioUnidad * dbo.[Detalles de pedidos].Cantidad AS Importe \" \\\n",
    "\"FROM dbo.Pedidos INNER JOIN dbo.[Detalles de pedidos] ON dbo.Pedidos.IdPedido = \" \\\n",
    "\"dbo.[Detalles de pedidos].IdPedido INNER JOIN dbo.Productos ON dbo.[Detalles de pedidos].IdProducto = \" \\\n",
    "\"dbo.Productos.IdProducto INNER JOIN dbo.Categorías ON dbo.Productos.IdCategoría = dbo.Categorías.IdCategoría\",conexion)\n",
    "importe_categoria.groupby(['NombreCategoría']).Importe.sum()"
   ]
  },
  {
   "cell_type": "code",
   "execution_count": null,
   "id": "8b6c8415",
   "metadata": {},
   "outputs": [],
   "source": [
    "consulta = \"SELECT * FROM Pedidos\"\n",
    "pedidos = pd.read_sql(consulta,conexion)\n",
    "\n",
    "# Vamos a trabajar con iloc (significa Integer location), cuidado warning la primera fila \n",
    "# es indice 0, la primera columna\n",
    "\n",
    "#pedidos.iloc[indice_fila, indice_columna]\n",
    "print(pedidos.iloc[0,0])\n"
   ]
  },
  {
   "cell_type": "code",
   "execution_count": null,
   "id": "f0b2d1a9",
   "metadata": {},
   "outputs": [],
   "source": [
    "# para ver el registro de las filas que contienen el nro de indice del 20 al 29\n",
    "pedidos.iloc[20:30,]"
   ]
  },
  {
   "cell_type": "code",
   "execution_count": null,
   "id": "c1eaa993",
   "metadata": {},
   "outputs": [],
   "source": [
    "# Para ver contenido de las columnas\n",
    "pedidos.info()"
   ]
  },
  {
   "cell_type": "code",
   "execution_count": null,
   "id": "fa658e51",
   "metadata": {},
   "outputs": [],
   "source": [
    "# los registros con las columnas que contienen el nro de indice del 20 al 29, 10 elementos\n",
    "# pero solo 3 columnas \n",
    "pedidos.iloc[20:30,[2,4,8]]"
   ]
  },
  {
   "cell_type": "code",
   "execution_count": null,
   "id": "a1e4bbb3",
   "metadata": {},
   "outputs": [],
   "source": [
    "pedidos.iloc[20:30,[7,2,4]]"
   ]
  },
  {
   "cell_type": "code",
   "execution_count": null,
   "id": "3e85b2e6",
   "metadata": {},
   "outputs": [],
   "source": [
    "# Con iloc puedo tener un clon de todos los registros pero solo 3 columnas\n",
    "pedidos3columnas = pedidos.iloc[:,[7,2,4]]"
   ]
  },
  {
   "cell_type": "code",
   "execution_count": null,
   "id": "4b91b63e",
   "metadata": {},
   "outputs": [],
   "source": [
    "# Voy a recorrer el dataframe para leer o escribir valores\n",
    "pedidos.iloc[0,0] = \"Hola\"\n",
    "pedidos"
   ]
  },
  {
   "cell_type": "code",
   "execution_count": null,
   "id": "29094d60",
   "metadata": {},
   "outputs": [],
   "source": [
    "# Como recorrel el dataframe, con un bucle, el nro de filas lo averiguaremos con len\n",
    "filas = len(pedidos)\n",
    "\n",
    "# Como averiguar el nro de columnas\n",
    "len(pedidos.columns)\n",
    "\n",
    "for i in range (0,filas):\n",
    "    print(\"nombre\",pedidos.iloc[i,1])"
   ]
  },
  {
   "cell_type": "code",
   "execution_count": 87,
   "id": "01a5f021",
   "metadata": {},
   "outputs": [
    {
     "name": "stderr",
     "output_type": "stream",
     "text": [
      "C:\\Users\\formacio\\AppData\\Local\\Temp\\ipykernel_5632\\1355626245.py:8: UserWarning: pandas only supports SQLAlchemy connectable (engine/connection) or database string URI or sqlite3 DBAPI2 connection. Other DBAPI2 objects are not tested. Please consider using SQLAlchemy.\n",
      "  tablas = pd.read_sql(detalles,conexion)\n"
     ]
    },
    {
     "name": "stdout",
     "output_type": "stream",
     "text": [
      "listo\n"
     ]
    }
   ],
   "source": [
    "# Cargar en un dataframe una sentencia sql del servidor que contenga \n",
    "# los datos de detalles de pedidos, productos y categoria.\n",
    "# mediante un bucle for, recorrer el dataframe y sustituir el nombre de la categoria \"beverage\" por \"bedidas\" y el nombre seafood por \"pescado\"\n",
    "# Guardar el dataframe en un libro de excel, pero solo las filas de la 100 a la 150\n",
    "detalles =\"SELECT * FROM dbo.Categorías INNER JOIN dbo.Productos ON dbo.Categorías.IdCategoría = \" \\\n",
    "\"dbo.Productos.IdCategoría INNER JOIN dbo.[Detalles de pedidos] ON dbo.Productos.IdProducto = \" \\\n",
    "\"dbo.[Detalles de pedidos].IdProducto\"\n",
    "tablas = pd.read_sql(detalles,conexion)\n",
    "\n",
    "#tablas.info()\n",
    "\n",
    "\n",
    "for i in range (0,len(tablas)):\n",
    "    if tablas.iloc[i,2]==\"Bebidas\":\n",
    "        tablas.iloc[i,2] =\"Beverages\"\n",
    "    elif tablas.iloc[i,2]==\"Pescado/Marisco\":\n",
    "        tablas.iloc[i,2] =\"Seafood\"\n",
    "\n",
    "tablas = tablas.iloc[100:150,]\n",
    "\n",
    "tablas.to_excel(r\"C:\\temp\\practica33.xlsx\",sheet_name=\"Datos\")\n",
    "\n",
    "print (\"listo\")"
   ]
  },
  {
   "cell_type": "code",
   "execution_count": null,
   "id": "436b2ef2",
   "metadata": {},
   "outputs": [],
   "source": [
    "filas2 = len(detalles)\n",
    "\n",
    "for i in range (0,filas2):\n",
    "    print(\"Bebidas\",tablas.iloc[i,1])"
   ]
  }
 ],
 "metadata": {
  "kernelspec": {
   "display_name": "Python 3",
   "language": "python",
   "name": "python3"
  },
  "language_info": {
   "codemirror_mode": {
    "name": "ipython",
    "version": 3
   },
   "file_extension": ".py",
   "mimetype": "text/x-python",
   "name": "python",
   "nbconvert_exporter": "python",
   "pygments_lexer": "ipython3",
   "version": "3.13.2"
  }
 },
 "nbformat": 4,
 "nbformat_minor": 5
}
