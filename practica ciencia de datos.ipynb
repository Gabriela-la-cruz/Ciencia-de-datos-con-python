{
 "cells": [
  {
   "cell_type": "code",
   "execution_count": null,
   "id": "c783b40f",
   "metadata": {},
   "outputs": [],
   "source": [
    "# PRACTICA 1: CREAR UNA LISTA QUE SE LLAME MESES Y QUE CONTENGA LOS MESES DE ENERO A JULIO MENOS ABRIL \n",
    "# DESPUES AÑADIREMOS AGOSTO SEPTIEMBRE Y OCTUBRE AL FINAL DE LA LISTA \n",
    "# INSERTAREMOS EN SU LUGAR EL MES DE ABRIL \n",
    "# AÑADIREMOS EL MES DE MAYO Y DE MARZO AL FINAL, DESPUES ELIMINAREMOS LOS MESES SOBRANTES PARA QUE NOS QUEDEN LOS MESES CORRECTOS  \n",
    "# QUEREMOS VER LA LISTA DE MESES, ORDENADA EN ORDEN ALFABETICO "
   ]
  },
  {
   "cell_type": "code",
   "execution_count": null,
   "id": "ffd87617",
   "metadata": {},
   "outputs": [
    {
     "name": "stdout",
     "output_type": "stream",
     "text": [
      "['ENERO', 'FEBRERO', 'MARZO', 'MAYO', 'JUNIO', 'JULIO']\n",
      "['ENERO', 'FEBRERO', 'MARZO', 'MAYO', 'JUNIO', 'JULIO', 'AGOSTO']\n",
      "['ENERO', 'FEBRERO', 'MARZO', 'MAYO', 'JUNIO', 'JULIO', 'AGOSTO', 'SEPTIEMBRE']\n",
      "['ENERO', 'FEBRERO', 'MARZO', 'MAYO', 'JUNIO', 'JULIO', 'AGOSTO', 'SEPTIEMBRE', 'OCTUBRE']\n",
      "['ENERO', 'FEBRERO', 'MARZO', 'ABRIL', 'MAYO', 'JUNIO', 'JULIO', 'AGOSTO', 'SEPTIEMBRE', 'OCTUBRE']\n",
      "['ENERO', 'FEBRERO', 'MARZO', 'ABRIL', 'MAYO', 'JUNIO', 'JULIO', 'AGOSTO', 'SEPTIEMBRE', 'OCTUBRE', 'MAYO']\n",
      "['ENERO', 'FEBRERO', 'MARZO', 'ABRIL', 'MAYO', 'JUNIO', 'JULIO', 'AGOSTO', 'SEPTIEMBRE', 'OCTUBRE', 'MAYO', 'MARZO']\n",
      "['ENERO', 'FEBRERO', 'MARZO', 'ABRIL', 'MAYO', 'JUNIO', 'JULIO', 'AGOSTO', 'SEPTIEMBRE', 'OCTUBRE', 'MARZO']\n",
      "['ENERO', 'FEBRERO', 'MARZO', 'ABRIL', 'MAYO', 'JUNIO', 'JULIO', 'AGOSTO', 'SEPTIEMBRE', 'OCTUBRE']\n",
      "['ABRIL', 'AGOSTO', 'ENERO', 'FEBRERO', 'JULIO', 'JUNIO', 'MARZO', 'MAYO', 'OCTUBRE', 'SEPTIEMBRE']\n"
     ]
    },
    {
     "data": {
      "text/plain": [
       "10"
      ]
     },
     "execution_count": 24,
     "metadata": {},
     "output_type": "execute_result"
    }
   ],
   "source": [
    "MESES = ['ENERO', 'FEBRERO', 'MARZO', 'MAYO', 'JUNIO', 'JULIO']\n",
    "print(MESES)\n",
    "\n",
    "MESES.append (\"AGOSTO\")\n",
    "print(MESES)\n",
    "\n",
    "MESES.append (\"SEPTIEMBRE\")\n",
    "print(MESES)\n",
    "\n",
    "MESES.append (\"OCTUBRE\")\n",
    "print(MESES)\n",
    "\n",
    "MESES.insert (3,'ABRIL')\n",
    "print(MESES)\n",
    "\n",
    "MESES.append (\"MAYO\")\n",
    "print(MESES)\n",
    "\n",
    "MESES.append (\"MARZO\")\n",
    "print(MESES)\n",
    "\n",
    "del MESES[10]\n",
    "print(MESES)\n",
    "\n",
    "del MESES[10]\n",
    "print(MESES)\n",
    "\n",
    "MESES_ORDENADOS = MESES # Esto seria para mantener la lista original, si no la quiero perder\n",
    "\n",
    "MESES_ORDENADOS.sort()\n",
    "print(MESES_ORDENADOS)\n",
    "len(MESES) # Para saber el largo de la lista \n"
   ]
  }
 ],
 "metadata": {
  "kernelspec": {
   "display_name": "Python 3",
   "language": "python",
   "name": "python3"
  },
  "language_info": {
   "codemirror_mode": {
    "name": "ipython",
    "version": 3
   },
   "file_extension": ".py",
   "mimetype": "text/x-python",
   "name": "python",
   "nbconvert_exporter": "python",
   "pygments_lexer": "ipython3",
   "version": "3.13.2"
  }
 },
 "nbformat": 4,
 "nbformat_minor": 5
}
