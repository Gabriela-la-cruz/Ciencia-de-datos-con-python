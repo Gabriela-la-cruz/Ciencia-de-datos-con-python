{
 "cells": [
  {
   "cell_type": "code",
   "execution_count": null,
   "id": "c783b40f",
   "metadata": {},
   "outputs": [],
   "source": [
    "# PRACTICA 1: CREAR UNA LISTA QUE SE LLAME MESES Y QUE CONTENGA LOS MESES DE ENERO A JULIO MENOS ABRIL \n",
    "# DESPUES AÑADIREMOS AGOSTO SEPTIEMBRE Y OCTUBRE AL FINAL DE LA LISTA \n",
    "# INSERTAREMOS EN SU LUGAR EL MES DE ABRIL \n",
    "# AÑADIREMOS EL MES DE MAYO Y DE MARZO AL FINAL, DESPUES ELIMINAREMOS LOS MESES SOBRANTES PARA QUE NOS QUEDEN LOS MESES CORRECTOS  \n",
    "# QUEREMOS VER LA LISTA DE MESES, ORDENADA EN ORDEN ALFABETICO "
   ]
  },
  {
   "cell_type": "code",
   "execution_count": null,
   "id": "ffd87617",
   "metadata": {},
   "outputs": [],
   "source": [
    "MESES = ['ENERO', 'FEBRERO', 'MARZO', 'MAYO', 'JUNIO', 'JULIO']\n",
    "print(MESES)\n",
    "\n",
    "MESES.append (\"AGOSTO\")\n",
    "print(MESES)\n",
    "\n",
    "MESES.append (\"SEPTIEMBRE\")\n",
    "print(MESES)\n",
    "\n",
    "MESES.append (\"OCTUBRE\")\n",
    "print(MESES)\n",
    "\n",
    "MESES.insert (3,'ABRIL')\n",
    "print(MESES)\n",
    "\n",
    "MESES.append (\"MAYO\")\n",
    "print(MESES)\n",
    "\n",
    "MESES.append (\"MARZO\")\n",
    "print(MESES)\n",
    "\n",
    "del MESES[10]\n",
    "print(MESES)\n",
    "\n",
    "del MESES[10]\n",
    "print(MESES)\n",
    "\n",
    "MESES_ORDENADOS = MESES # Esto seria para mantener la lista original, si no la quiero perder\n",
    "\n",
    "MESES_ORDENADOS.sort()\n",
    "print(MESES_ORDENADOS)\n",
    "len(MESES) # Para saber el largo de la lista \n"
   ]
  },
  {
   "cell_type": "code",
   "execution_count": null,
   "id": "c9070902",
   "metadata": {},
   "outputs": [],
   "source": [
    "# Estructuras de control, el condicional if, el if analiza una condicion o prueba logica y si \n",
    "# se cumple ejecuta una parte verdadera, o prueba logica, lo que hace es comparar valores mediante los operadores \n",
    "# de comparación \n",
    "# > Mayor que\n",
    "# < Menor que\n",
    "# >= Mayor o igual que \n",
    "# <= Menor o igual que \n",
    "# igual que \n",
    "# != distinto de \n",
    "# las estructuras de control tienen : e identación el las lineas siguientes \n",
    "# la estructura termina si se quita la identacion (que es el tabulador o 4 espacios)\n",
    "\n",
    "i = 65\n",
    "if i > 10:\n",
    "    # parte verdadera\n",
    "    print ( \"El valior es mayor de 10\")\n",
    "else: \n",
    "    # parte falsa\n",
    "    print( \"El valor es menor o igual de 10\")\n",
    "print(\"terminado\")\n",
    "\n",
    "# Si necesito mas opciones de devolucion usaremos elif\n",
    "i = 30\n",
    "if i < 20:\n",
    "    print(\"entre 0 y < 20\")\n",
    "elif i<40:\n",
    "    print(\"Entre 20 y < 40\")\n",
    "else:\n",
    "    print(\"Mayor o igual a 40\")\n",
    "#termina la estructura "
   ]
  }
 ],
 "metadata": {
  "kernelspec": {
   "display_name": "Python 3",
   "language": "python",
   "name": "python3"
  },
  "language_info": {
   "codemirror_mode": {
    "name": "ipython",
    "version": 3
   },
   "file_extension": ".py",
   "mimetype": "text/x-python",
   "name": "python",
   "nbconvert_exporter": "python",
   "pygments_lexer": "ipython3",
   "version": "3.13.2"
  }
 },
 "nbformat": 4,
 "nbformat_minor": 5
}
