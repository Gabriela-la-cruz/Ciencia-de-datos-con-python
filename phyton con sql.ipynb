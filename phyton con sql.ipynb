{
 "cells": [
  {
   "cell_type": "code",
   "execution_count": null,
   "id": "ecac81d1",
   "metadata": {},
   "outputs": [],
   "source": [
    "# Conectarnos al SQL Server con Python, para conectar a SQL Server, \n",
    "# necesitamos 2 librerías: pyodbc + SQLAlchemy\n",
    "# >pip install pyodbc  (escribir en el CMD)\n",
    "\n",
    "import pyodbc \n",
    "import pandas as pd\n",
    "\n",
    "# Necesito crear una cadena de conexión, tienen diferentes parámetros \n",
    "server = r\"M027619\\SQLEXPRESS\"   # Nombre del servidor (En el SSMS, arriba aparece el nombre (boton dch sobre él > Properties))\n",
    "database = \"Neptuno\"             # Nombre de la base de datos (que hemos descargado del github del curso - Neptuno.2003 II.mdb )\n",
    "trusted = \"yes\"                  # Mensaje que aparecía en SSMS - \"Trust Server Certificate\"\n",
    "\n",
    "# Vamos a montar la cadena de conexión con f.strings\n",
    "conn = (\n",
    "    f'DRIVER={{ODBC Driver 17 for SQL Server}};'               # El driver instalado - para saber cuales están instalados: pyodbc.drivers() \n",
    "    f'SERVER={server};'\n",
    "    f'DATABASE={database};'\n",
    "    f'TRUSTED_CONNECTION={trusted};'\n",
    ")\n",
    "conexion = pyodbc.connect(conn)\n",
    "print(\"Conectado con exito\")\n",
    "\n",
    "conexion = pyodbc.connect(conn)\n",
    "# Esto todo es lo que se usa si nos conectamos al SQL Server, si es una base de datos en otro servidor\n",
    "# puede variar el codigo, que no vaya trusted o algo \n",
    "\n",
    "#Voy a cargar un DataFrame con los pedidos \n",
    "pedidos = pd.read_sql(\"SELECT * FROM Pedidos\", conexion)\n",
    "print(pedidos)"
   ]
  }
 ],
 "metadata": {
  "kernelspec": {
   "display_name": "Python 3",
   "language": "python",
   "name": "python3"
  },
  "language_info": {
   "codemirror_mode": {
    "name": "ipython",
    "version": 3
   },
   "file_extension": ".py",
   "mimetype": "text/x-python",
   "name": "python",
   "nbconvert_exporter": "python",
   "pygments_lexer": "ipython3",
   "version": "3.13.2"
  }
 },
 "nbformat": 4,
 "nbformat_minor": 5
}
