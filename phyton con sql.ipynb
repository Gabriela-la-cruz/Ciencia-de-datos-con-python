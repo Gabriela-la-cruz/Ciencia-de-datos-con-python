{
 "cells": [
  {
   "cell_type": "code",
   "execution_count": 3,
   "id": "ecac81d1",
   "metadata": {},
   "outputs": [
    {
     "name": "stdout",
     "output_type": "stream",
     "text": [
      "Conectado con exito\n",
      "     IdPedido IdCliente  IdEmpleado FechaPedido FechaEntrega FechaEnvío  \\\n",
      "0       10248     WELLI           5  1996-07-04   1996-08-01 1996-07-16   \n",
      "1       10249     TOMSP           6  1996-07-05   1996-08-16 1996-07-10   \n",
      "2       10250     HANAR           4  1996-07-08   1996-08-05 1996-07-12   \n",
      "3       10251     VICTE           3  1996-07-08   1996-08-05 1996-07-15   \n",
      "4       10252     SUPRD           4  1996-07-09   1996-08-06 1996-07-11   \n",
      "..        ...       ...         ...         ...          ...        ...   \n",
      "825     11073     PERIC           2  1998-05-05   1998-06-02        NaT   \n",
      "826     11074     SIMOB           7  1998-05-06   1998-06-03        NaT   \n",
      "827     11075     RICSU           8  1998-05-06   1998-06-03        NaT   \n",
      "828     11076     BONAP           4  1998-05-06   1998-06-03        NaT   \n",
      "829     11077     RATTC           1  1998-05-06   1998-06-03        NaT   \n",
      "\n",
      "     FormaEnvío  Cargo                Destinatario     DirecciónDestinatario  \\\n",
      "0             3  32.38                 Wilman Kala             Keskuskatu 45   \n",
      "1             1  11.61          Toms Spezialitäten             Luisenstr. 48   \n",
      "2             2  65.83               Hanari Carnes           Rua do Paço, 67   \n",
      "3             1  41.34        Victuailles en stock        2, rue du Commerce   \n",
      "4             2  51.30            Suprêmes délices      Boulevard Tirou, 255   \n",
      "..          ...    ...                         ...                       ...   \n",
      "825           2  24.95   Pericles Comidas clásicas  Calle Dr. Jorge Cash 321   \n",
      "826           2  18.44               Simons bistro              Vinbæltet 34   \n",
      "827           2   6.19          Richter Supermarkt               Starenweg 5   \n",
      "828           2  38.28                    Bon app'      12, rue des Bouchers   \n",
      "829           2   8.53  Rattlesnake Canyon Grocery           2817 Milton Dr.   \n",
      "\n",
      "    CiudadDestinatario RegiónDestinatario CódPostalDestinatario  \\\n",
      "0             Helsinki               None                 21240   \n",
      "1              Münster               None                 44087   \n",
      "2       Río de Janeiro                 RJ             05454-876   \n",
      "3                 Lyon               None                 69004   \n",
      "4            Charleroi               None                B-6000   \n",
      "..                 ...                ...                   ...   \n",
      "825        México D.F.               None                 05033   \n",
      "826          København               None                  1734   \n",
      "827             Genève               None                  1204   \n",
      "828          Marseille               None                 13008   \n",
      "829        Albuquerque                 NM                 87110   \n",
      "\n",
      "    PaísDestinatario  \n",
      "0          Finlandia  \n",
      "1           Alemania  \n",
      "2             Brasil  \n",
      "3            Francia  \n",
      "4            Bélgica  \n",
      "..               ...  \n",
      "825           México  \n",
      "826        Dinamarca  \n",
      "827            Suiza  \n",
      "828          Francia  \n",
      "829   Estados Unidos  \n",
      "\n",
      "[830 rows x 14 columns]\n"
     ]
    },
    {
     "name": "stderr",
     "output_type": "stream",
     "text": [
      "C:\\Users\\formacio\\AppData\\Local\\Temp\\ipykernel_9716\\3962751334.py:28: UserWarning: pandas only supports SQLAlchemy connectable (engine/connection) or database string URI or sqlite3 DBAPI2 connection. Other DBAPI2 objects are not tested. Please consider using SQLAlchemy.\n",
      "  pedidos = pd.read_sql(\"SELECT * FROM Pedidos\", conexion)\n"
     ]
    }
   ],
   "source": [
    "# Conectarnos al SQL Server con Python, para conectar a SQL Server, \n",
    "# necesitamos 2 librerías: pyodbc + SQLAlchemy\n",
    "# >pip install pyodbc  (escribir en el CMD)\n",
    "\n",
    "import pyodbc \n",
    "import pandas as pd\n",
    "\n",
    "# Necesito crear una cadena de conexión, tienen diferentes parámetros \n",
    "server = r\"M027619\\SQLEXPRESS\"   # Nombre del servidor (En el SSMS, arriba aparece el nombre (boton dch sobre él > Properties))\n",
    "database = \"Neptuno\"             # Nombre de la base de datos (que hemos descargado del github del curso - Neptuno.2003 II.mdb )\n",
    "trusted = \"yes\"                  # Mensaje que aparecía en SSMS - \"Trust Server Certificate\"\n",
    "\n",
    "# Vamos a montar la cadena de conexión con f.strings\n",
    "conn = (\n",
    "    f'DRIVER={{ODBC Driver 17 for SQL Server}};'               # El driver instalado - para saber cuales están instalados: pyodbc.drivers() \n",
    "    f'SERVER={server};'\n",
    "    f'DATABASE={database};'\n",
    "    f'TRUSTED_CONNECTION={trusted};'\n",
    ")\n",
    "conexion = pyodbc.connect(conn)\n",
    "print(\"Conectado con exito\")\n",
    "\n",
    "conexion = pyodbc.connect(conn)\n",
    "# Esto todo es lo que se usa si nos conectamos al SQL Server, si es una base de datos en otro servidor\n",
    "# puede variar el codigo, que no vaya trusted o algo \n",
    "\n",
    "#Voy a cargar un DataFrame con los pedidos \n",
    "pedidos = pd.read_sql(\"SELECT * FROM Pedidos\", conexion)\n",
    "print(pedidos)"
   ]
  }
 ],
 "metadata": {
  "kernelspec": {
   "display_name": "Python 3",
   "language": "python",
   "name": "python3"
  },
  "language_info": {
   "codemirror_mode": {
    "name": "ipython",
    "version": 3
   },
   "file_extension": ".py",
   "mimetype": "text/x-python",
   "name": "python",
   "nbconvert_exporter": "python",
   "pygments_lexer": "ipython3",
   "version": "3.13.2"
  }
 },
 "nbformat": 4,
 "nbformat_minor": 5
}
