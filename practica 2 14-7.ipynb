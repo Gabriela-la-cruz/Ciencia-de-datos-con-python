{
 "cells": [
  {
   "cell_type": "code",
   "execution_count": null,
   "id": "8f218478",
   "metadata": {},
   "outputs": [
    {
     "name": "stdout",
     "output_type": "stream",
     "text": [
      "Terminado con exito\n"
     ]
    }
   ],
   "source": [
    "#Para leer un fichero de excel\n",
    "#instalar una libreria adicional openpyxl\n",
    "# pip intall openpyxl\n",
    "import pandas as pd \n",
    "agosto2014 = pd.read_excel(r\"C:\\Users\\formacio\\Desktop\\ciencia de datos Gabriela\\VentasGroucery_Meses (3).xlsx\",sheet_name='Ventas Agosto 2014')\n",
    "\n",
    "agosto2014['Amount'] = agosto2014['Unit Price'] *agosto2014['Quantity']\n",
    "agosto2014\n",
    "\n",
    "#Agrupacion, toda agrupacion necesita 2 cosas que son dimensiones y metricas\n",
    "# las dimensiones es todo aquello por lo que quiero medir, ej: Category, Country, Customer\n",
    "# y la metrica es la medicion de la informacion ej: sum de Amount, mean de Unit Price, count, etc....\n",
    "# la suma de Amount por Ship Country\n",
    "#la suma de Amount por pais\n",
    "agosto2014.groupby(['Ship Country']).Amount.sum()\n",
    "#la suma de Amount por pais y ciudad\n",
    "agosto2014.groupby(['Ship Country','Ship City']).Amount.sum()\n",
    "# el promedio de Unit Price por pais\n",
    "agosto2014.groupby(['Ship Country'])['Unit Price'].mean()\n",
    "# La cantidad de pedidos por categoria\n",
    "agosto2014.groupby(['Category'])['Order ID'].count()\n",
    "\n",
    "# Guardar la agrupacion en un objeto \n",
    "\n",
    "importe_pais = agosto2014.groupby(['Ship Country',]).Amount.sum()\n",
    "importe_pais \n",
    "# este objeto no es un dataframe, hay que convertitlo\n",
    "\n",
    "importe_pais = pd.DataFrame(importe_pais)\n",
    "importe_pais \n",
    "#no tiene indice numerico, es el pais. tenemos que generar el indice\n",
    "\n",
    "importe_pais = importe_pais.reset_index()\n",
    "importe_pais \n",
    "\n",
    "#guardar este dataframe en un dichero, en este caso un .csv\n",
    "# una variable con la ruta del fichero \n",
    "fichero = r\"c:\\temp\\lunes14.csv\"\n",
    "importe_pais.to_csv(fichero,sep=\";\",index=True)\n",
    "print(\"Terminado con exito\")"
   ]
  },
  {
   "cell_type": "code",
   "execution_count": null,
   "id": "226f6e08",
   "metadata": {},
   "outputs": [
    {
     "name": "stdout",
     "output_type": "stream",
     "text": [
      "Terminado con exito\n"
     ]
    }
   ],
   "source": [
    "# Practica 30\n",
    "# del fichero de excel ventras grocery, cargar en dataframe los 3 meses(Agosto-Septiembre-Octubre) \n",
    "# crear un dataframe con los 3 meses \n",
    "# aplicar un filtro para tener solo los pedidos cuya 'Quantity' sea mayor de 10 \n",
    "# Guardar en un fichero .csv la suma de 'Amount' (Unit Price * Quantity)\n",
    "# agrupado por pais y categoria\n",
    "\n",
    "import pandas as pd \n",
    "agosto2014 = pd.read_excel(r\"C:\\Users\\formacio\\Desktop\\ciencia de datos Gabriela\\VentasGroucery_Meses (3).xlsx\",sheet_name='Ventas Agosto 2014')\n",
    "septiembre2014 = pd.read_excel(r\"C:\\Users\\formacio\\Desktop\\ciencia de datos Gabriela\\VentasGroucery_Meses (3).xlsx\",sheet_name='Ventas Septiembre 2014')\n",
    "octubre2014 = pd.read_excel(r\"C:\\Users\\formacio\\Desktop\\ciencia de datos Gabriela\\VentasGroucery_Meses (3).xlsx\",sheet_name='Ventas Octubre 2014')\n",
    "\n",
    "trimestre2 = pd.concat([agosto2014, septiembre2014, octubre2014],ignore_index=True)\n",
    "\n",
    "filtro = trimestre2['Quantity']>10\n",
    "trimestre2 = trimestre2[filtro]\n",
    "trimestre2.sort_values(ascending=True, by='Quantity')\n",
    "\n",
    "trimestre2['Amount'] = trimestre2['Unit Price']* trimestre2['Quantity']\n",
    "\n",
    "suma_monto = trimestre2.groupby(['Ship Country', 'Category']).Amount.sum()\n",
    "suma_monto\n",
    "\n",
    "suma_monto = pd.DataFrame(suma_monto).reset_index()\n",
    "\n",
    "#Guardar directo como fichero de csv\n",
    "suma_monto.to_csv (r\"c:\\temp\\practica2.csv\",sep=\";\")\n",
    "\n",
    "print(\"Terminado con exito\")\n",
    "\n",
    "\n"
   ]
  }
 ],
 "metadata": {
  "kernelspec": {
   "display_name": "Python 3",
   "language": "python",
   "name": "python3"
  },
  "language_info": {
   "codemirror_mode": {
    "name": "ipython",
    "version": 3
   },
   "file_extension": ".py",
   "mimetype": "text/x-python",
   "name": "python",
   "nbconvert_exporter": "python",
   "pygments_lexer": "ipython3",
   "version": "3.13.2"
  }
 },
 "nbformat": 4,
 "nbformat_minor": 5
}
