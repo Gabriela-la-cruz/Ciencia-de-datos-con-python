{
 "cells": [
  {
   "cell_type": "code",
   "execution_count": null,
   "id": "7d9d4856",
   "metadata": {},
   "outputs": [],
   "source": [
    "numeros = [1, 2, 3, 4, 5, 6, 7, 8, 9, 10]\n",
    "for numero in numeros:\n",
    "    print(numero)"
   ]
  },
  {
   "cell_type": "code",
   "execution_count": null,
   "id": "f7ad7173",
   "metadata": {},
   "outputs": [],
   "source": [
    "#Dominar la función range, solo genera numeros de manera consecutiva y que le podemos dar un step o incremento\n",
    "lista_numeros = range(10)   #Genera numeros del 0 al 9, por un total de 10 numeros\n",
    "#Para ver la lista de numeros, usaremos la función list\n",
    "print(list(lista_numeros))"
   ]
  },
  {
   "cell_type": "code",
   "execution_count": null,
   "id": "d6acf006",
   "metadata": {},
   "outputs": [],
   "source": [
    "#Dandole a range un valor inicial y final\n",
    "lista_numeros = range(10,30)    #Genera numeros del 10 al 29, por un total de 20 numeros\n",
    "print(list(lista_numeros))"
   ]
  },
  {
   "cell_type": "code",
   "execution_count": null,
   "id": "47cb0563",
   "metadata": {},
   "outputs": [],
   "source": [
    "lista_numeros = range(10,30,2)    #Genera numeros pero me lo incrementa de 2 en 2\n",
    "print(list(lista_numeros))"
   ]
  },
  {
   "cell_type": "code",
   "execution_count": null,
   "id": "e477ea8d",
   "metadata": {},
   "outputs": [],
   "source": [
    "lista_numeros = range(100,30,-3)    #una lista regresiva, de 100 a 30, pero me lo decrementa de 3 en 3\n",
    "print(list(lista_numeros))"
   ]
  },
  {
   "cell_type": "code",
   "execution_count": null,
   "id": "f2d5f654",
   "metadata": {},
   "outputs": [],
   "source": [
    "iter = 1\n",
    "for i in range(10,25):\n",
    "    print(\"El valor de la lista es\",i)\n",
    "    print(\"El numero de iteración es\",iter)\n",
    "    iter = iter +1\n",
    "    #iter += 1 esto tambien es válido\n",
    "print(\"El numero de iteracciones es\",iter-1)"
   ]
  },
  {
   "cell_type": "markdown",
   "id": "828f79e6",
   "metadata": {},
   "source": [
    "PRACTICA 6: SIN USAR LA IA EN VISUAL STUDIO CODE, MEDIANTE UN BUCLE FOR, RECORRER LA LISTA SEMANA (LUNES A DOMINGO) Y MOSTRAR EN UN TEXTO \"EL DIA DE LA SEMANA ES AAA\"\n",
    "\n",
    "PRACTICA 7: SIN USAR LA IA EN VISUAL STUDIO CODE, MEDIANTE UN BUCLE FOR, RECORRER LA LISTA MESES (ENERO-DICIEMBRE) Y PONER EN UN TEXTO \"EL PRIMER MES DEL AÑO ES ENERO\", \"EL SEGUNDO MES DEL AÑO ES FEBRERO\","
   ]
  },
  {
   "cell_type": "code",
   "execution_count": null,
   "id": "f643b0dc",
   "metadata": {},
   "outputs": [],
   "source": [
    "lista4 = range(10)\n",
    "lista4 = list(lista4)\n",
    "lista4"
   ]
  },
  {
   "cell_type": "code",
   "execution_count": null,
   "id": "43c2cfdb",
   "metadata": {},
   "outputs": [],
   "source": [
    "#Practica 6\n",
    "semana = ['Lunes','Martes','Miercoles','Jueves','Viernes','Sabado','Domingo']\n",
    "\n",
    "for dia in semana:\n",
    "    print(\"El dia de la semana es\",dia)"
   ]
  },
  {
   "cell_type": "code",
   "execution_count": null,
   "id": "290c8996",
   "metadata": {},
   "outputs": [],
   "source": [
    "#Practica 7\n",
    "meses = [\"Enero\",'Febrero','Marzo','Abril','Mayo','Junio','Julio','Agosto',\n",
    "         'Septiembre','Octubre','Noviembre','Diciembre']\n",
    "ordinal = ['primer','segundo','tercero','cuarto','quinto','sexto',\n",
    "           'primer','segundo','tercero','cuarto','quinto','sexto']\n",
    "\n",
    "iter = 0\n",
    "for mes in meses:\n",
    "    print(\"El\",ordinal[iter],\"mes es\",mes)\n",
    "    iter+=1"
   ]
  },
  {
   "cell_type": "markdown",
   "id": "767179ec",
   "metadata": {},
   "source": [
    "Las funciones de logica AND y OR, permiten combinarlas con el if. OR analizar varias condiciones o pruebas logicas si se cumple una de ellas ya es verdadero y el AND si se cumplen todas es verdadero, con el AND podia clasificar valores dentro de un tramo y con el or fuera del tramo"
   ]
  },
  {
   "cell_type": "code",
   "execution_count": null,
   "id": "e23d59fd",
   "metadata": {},
   "outputs": [],
   "source": [
    "Ciudad = \"Barcelona\"\n",
    "Importe = 750\n",
    "if Ciudad==\"Barcelona\" or Importe>1000:\n",
    "    print(\"Descuento\")\n",
    "else:\n",
    "    print(\"No hago Descuento\")"
   ]
  },
  {
   "cell_type": "code",
   "execution_count": null,
   "id": "08dc15fd",
   "metadata": {},
   "outputs": [],
   "source": [
    "Ciudad = \"Barcelona\"\n",
    "Importe = 750\n",
    "if Ciudad==\"Barcelona\" and Importe>1000:\n",
    "    print(\"Descuento\")\n",
    "else:\n",
    "    print(\"No hago Descuento\")"
   ]
  },
  {
   "cell_type": "markdown",
   "id": "4511df7a",
   "metadata": {},
   "source": [
    "PRACTICA 8: Con un bucle for recorrer la siguiente lista de numeros, [5,-8,145,36,75,62,-20,41,25,19], clasificar los numero por tramos de 30 en 30 comenzando por 0 y terminado por 120 Se tiene que ver un texto que diga, \"el numero 5 esta comprendido entre 0-30\"...Os dejo 3-4 minutos y resolvemos esta practica 8"
   ]
  },
  {
   "cell_type": "code",
   "execution_count": null,
   "id": "70e6627b",
   "metadata": {},
   "outputs": [],
   "source": [
    "numeros = [5,-8,145,36,75,62,-20,41,25,19]\n",
    "numeros.sort()\n",
    "\n",
    "for numero in numeros:\n",
    "    if numero<0 or numero>120:\n",
    "        print(\"El numero\",numero,\"esta fuera de intervalo\")\n",
    "    elif numero>=0 and numero<=30:\n",
    "        print(\"El numero\",numero,\"esta comprendido entre 0-30\")\n",
    "    elif numero>30 and numero<=60:\n",
    "        print(\"El numero\",numero,\"esta comprendido entre >30-60\")\n",
    "    elif numero>60 and numero<=90:\n",
    "        print(\"El numero\",numero,\"esta comprendido entre >60-90\")\n",
    "    elif numero>90 and numero<=120:\n",
    "        print(\"El numero\",numero,\"esta comprendido entre >90-120\")"
   ]
  },
  {
   "cell_type": "markdown",
   "id": "c9c9ac05",
   "metadata": {},
   "source": [
    "COMO SALIR DE UN BUCLE, SERA CON LA FUNCIÓN BREAK"
   ]
  },
  {
   "cell_type": "code",
   "execution_count": null,
   "id": "9b9b621c",
   "metadata": {},
   "outputs": [],
   "source": [
    "for dia in semana:\n",
    "    if dia==\"Miercoles\":\n",
    "        break\n",
    "    print(dia)"
   ]
  },
  {
   "cell_type": "code",
   "execution_count": null,
   "id": "d812bc69",
   "metadata": {},
   "outputs": [],
   "source": [
    "palabra = \"Domingo\"\n",
    "for letra in palabra:\n",
    "    if letra==\"n\":\n",
    "        #Termina el bucle\n",
    "        break\n",
    "    print(\"La letra es\",letra)"
   ]
  },
  {
   "cell_type": "code",
   "execution_count": null,
   "id": "06a012bb",
   "metadata": {},
   "outputs": [],
   "source": [
    "palabra = \"Domingo\"\n",
    "for letra in palabra:\n",
    "    if letra==\"n\":\n",
    "        #Salta la iteración\n",
    "        continue\n",
    "    print(\"La letra es\",letra)"
   ]
  },
  {
   "cell_type": "code",
   "execution_count": null,
   "id": "6e72f794",
   "metadata": {},
   "outputs": [],
   "source": [
    "#Metodos interesantes de la clase string (str), upper = mayusculas, lower = minusculas\n",
    "#replace = reeplaza valores, split = dividir una cadena, por defecto por espacios en blanco\n",
    "#aunque se le puede decir el caracter que dividen, join para juntar, len = el numero de caracteres\n",
    "#contains = para averiguar si una cadena contiene uno o varios caracteres\n",
    "print(palabra.upper())\n",
    "print(palabra.lower())\n",
    "print(palabra.replace(\"o\",\"&\"))\n",
    "#El original se mantiene, si lo quiero modificar palabra = palabra.upper()"
   ]
  },
  {
   "cell_type": "code",
   "execution_count": null,
   "id": "c4fcf401",
   "metadata": {},
   "outputs": [],
   "source": [
    "frase = \"Este/es/un/curso/de/Python\"\n",
    "frase2 = frase.split('/')  #esto me separa las palabras por espacio en blanco, si no le\n",
    "#indico el o los caracteres entre comillas\n",
    "frase2[5]"
   ]
  },
  {
   "cell_type": "code",
   "execution_count": null,
   "id": "a2c6e12c",
   "metadata": {},
   "outputs": [],
   "source": [
    "semana_total = \"-\".join(semana)\n",
    "semana_total"
   ]
  },
  {
   "cell_type": "code",
   "execution_count": null,
   "id": "594bf399",
   "metadata": {},
   "outputs": [],
   "source": [
    "fecha = ['03','07','2025']\n",
    "resultado = \"/\".join(fecha)\n",
    "resultado"
   ]
  },
  {
   "cell_type": "code",
   "execution_count": null,
   "id": "ae94d3ca",
   "metadata": {},
   "outputs": [],
   "source": [
    "print(len(meses))\n",
    "print(len(palabra))"
   ]
  },
  {
   "cell_type": "markdown",
   "id": "27c74d59",
   "metadata": {},
   "source": [
    "PRACTICA 9: MEDIANTE LA LISTA DE NUMEROS SIGUIENTE [28,15,32,7,44,35,62,76] IMPRIMIR POR INDIVIDUAL LOS NUMEROS HASTA QUE LA SUMA DE LOS NUMEROS YA IMPRESOS SEA MENOR DE 180\n",
    "\n",
    "PRACTICA 10: MOSTRAR EN UN TEXTO, SOLO LA CUARTA PALABRA DE LA VARIA FRASE = \"ESTO ES UNA FRASE DE PRUEBA PARA LA PRACTICA 10\"\n",
    "\n",
    "PRACTICA 11: JUNTAR EN UNA VARIABLE LOS DIAS DE LA SEMANA, PERO JUNTADOS CON LA #. Y VER EL VALOR DE LA VARIABLE EN MAYUSCULAS"
   ]
  },
  {
   "cell_type": "code",
   "execution_count": null,
   "id": "021fe322",
   "metadata": {},
   "outputs": [],
   "source": [
    "#Practica 9\n",
    "numeros =  [28,15,32,7,44,35,62,76]\n",
    "acumulado = 0\n",
    "for numero in numeros:\n",
    "    acumulado = acumulado + numero\n",
    "    if acumulado>180:\n",
    "        break\n",
    "    else:\n",
    "        print(\"El numero es\",numero, \"y el acumulado es\",acumulado)"
   ]
  },
  {
   "cell_type": "code",
   "execution_count": null,
   "id": "e78efb0e",
   "metadata": {},
   "outputs": [],
   "source": [
    "#Practica 10\n",
    "frase = \"ESTO ES UNA FRASE DE PRUEBA PARA LA PRACTICA 10\"\n",
    "lista_frase = frase.split()\n",
    "lista_frase[3]"
   ]
  },
  {
   "cell_type": "code",
   "execution_count": null,
   "id": "215aafd7",
   "metadata": {},
   "outputs": [],
   "source": [
    "#Practica 11\n",
    "semana_junto = \"#\".join(semana).upper()\n",
    "semana_junto"
   ]
  },
  {
   "cell_type": "markdown",
   "id": "6678934b",
   "metadata": {},
   "source": [
    "¿QUE ES UNA FUNCIÓN?. ES UN CODIGO QUE DEVUELVE UN RESULTADO. PARA CREAR UNA FUNCIÓN DEBEMOS CONOCER SU SINTAXIS. LA PALABRA CLAVE def, EL NOMBRE DE LA FUNCIÓN (NO PUEDE CONTENER NI ESPACIOS EN BLANCO, NI CARACTERES ESPECIALES, NO EMPEZAR POR NUMERO), EL PARENTESIS DE APERTURA \"(\", DESPUES VENDRAN LOS PARAMETROS (LOS VALORES QUE LE PASO A LA FUNCIÓN SI TENGO +1 PARAMETRO VAN SEPARADOS POR COMAS), FINALMENTE EL PARENTESIS DE CIERRE \")\". LOS : AL FINAL"
   ]
  },
  {
   "cell_type": "code",
   "execution_count": null,
   "id": "7229f48a",
   "metadata": {},
   "outputs": [],
   "source": [
    "def suma3(x):\n",
    "    #Para devolver el valor 2 opciones, print me devuelve un texto\n",
    "    print(\"el resultado es\",x+3)\n",
    "    #la segunda return\n",
    "#Aqui termina la función, una cosa es crear la función, tengo que ejecutar este codigo\n",
    "#para que la función este en el kernel\n",
    "#llamar a la función para usarla\n",
    "suma3(22)"
   ]
  },
  {
   "cell_type": "code",
   "execution_count": null,
   "id": "a0cf133d",
   "metadata": {},
   "outputs": [],
   "source": [
    "def suma6(x):\n",
    "    return x+6\n",
    "#Cuando hago la llamsda\n",
    "suma6(6)+6"
   ]
  },
  {
   "cell_type": "code",
   "execution_count": null,
   "id": "dfb8d18a",
   "metadata": {},
   "outputs": [],
   "source": [
    "#Ejemplo con 2 parametros\n",
    "def sumaab(a,b):\n",
    "    #En la función debo proteger el tipo integer o float\n",
    "    return int(a)+int(b)\n",
    "#Paso los valores\n",
    "a = input(\"Pon el valor de a\")\n",
    "b = input(\"Pon el valor de b\")\n",
    "#Llamó a la función\n",
    "sumaab(a,b)"
   ]
  },
  {
   "cell_type": "markdown",
   "id": "36838349",
   "metadata": {},
   "source": [
    "PRACTICA 12: CREAR UNA FUNCIÓN QUE NOS DEVUELVA EL TEXTO \"EL RESULTADO ES X\", Y LA FUNCIÓN TIENE QUE RESTAR 4 AL PARAMETRO Y DIVIRLO POR 2\n",
    "\n",
    "PRACTICA 13: CREAR UNA FUNCIÓN QUE NOS DEVUELVA EL AREA DE UN TRIANGULO, PASARLE LOS VALORES MEDIANTE INPUT\n",
    "\n",
    "PRACTICA 14: CREAR UNA FUNCIÓN QUE NOS DEVUELVA EL NOMBRE DEL MES EN LETRAS, SI LE PASAMOS A LA FUNCIÓN UN NUMERO EN UN INPUT (WARNING SI ESE NUMERO NO ES ENTRE 1-12)\n",
    "\n",
    "PRACTICA 15: CREAR UNA FUNCIÓN QUE COMPARE 2 VALORES A Y B, Y NOS DEVUELVO EN UN TEXTO LOS 3 POSIBLES RESULTADOS \"A ES MAYOR QUE B\", \"A ES MENOR QUE B\", \"A Y B SON IGUALES\", SUSTITUIR POR LOS VALORES QUE SE LE PASAN A LA FUNCIÓN"
   ]
  },
  {
   "cell_type": "code",
   "execution_count": null,
   "id": "d7125d29",
   "metadata": {},
   "outputs": [],
   "source": [
    "#Practica 12\n",
    "def resta4D2(x):\n",
    "    #Con los parentesis establezco la prioridad\n",
    "    resultado = (int(x)-4)/2\n",
    "    print(\"El resultado es\",resultado)\n",
    "#Llamar a la función\n",
    "resta4D2(input(\"Pon el numero\"))"
   ]
  },
  {
   "cell_type": "code",
   "execution_count": null,
   "id": "d814eebc",
   "metadata": {},
   "outputs": [],
   "source": [
    "#Practica 13 Area del triangulo\n",
    "def area_triangulo(base,altura):\n",
    "    #if int(base)>0 and int(altura)>0:\n",
    "    #Calcular el area del triangulo, base por altura y partido por 2\n",
    "    resultado = (int(base)*int(altura))/2\n",
    "    return resultado\n",
    "    print(\"El area del triangulo es\",resultado)\n",
    "#LLamar a la función\n",
    "base = input(\"Ponga la base\")\n",
    "altura = input(\"Ponga la altura\")\n",
    "area_triangulo(base,altura)"
   ]
  },
  {
   "cell_type": "code",
   "execution_count": null,
   "id": "f025ad2b",
   "metadata": {},
   "outputs": [],
   "source": [
    "area_triangulo(altura=35,base=86)"
   ]
  },
  {
   "cell_type": "code",
   "execution_count": null,
   "id": "2622bdcb",
   "metadata": {},
   "outputs": [],
   "source": [
    "#Practica 14\n",
    "def devuelve_mes(num):\n",
    "    #meses = [] se recomienda que la función tenga todos los recursos\n",
    "    if num>=1 and num<=12:\n",
    "        print(\"El mes de\",num,\"en letras es\",meses[num-1])\n",
    "    else:\n",
    "        print(\"El numero de mes introducido no es valido 1-12\")\n",
    "#Hago la llamada con el input\n",
    "devuelve_mes(int(input(\"Ponga el mes en numero\")))\n",
    "#Otras opciones con match...case, o con el if\n",
    "#match num\n",
    "#    case 1:\n",
    "#        print(\"Enero\")"
   ]
  }
 ],
 "metadata": {
  "kernelspec": {
   "display_name": "Python 3",
   "language": "python",
   "name": "python3"
  },
  "language_info": {
   "codemirror_mode": {
    "name": "ipython",
    "version": 3
   },
   "file_extension": ".py",
   "mimetype": "text/x-python",
   "name": "python",
   "nbconvert_exporter": "python",
   "pygments_lexer": "ipython3",
   "version": "3.13.2"
  }
 },
 "nbformat": 4,
 "nbformat_minor": 5
}
