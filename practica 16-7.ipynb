{
 "cells": [
  {
   "cell_type": "code",
   "execution_count": null,
   "id": "99c6ba2c",
   "metadata": {},
   "outputs": [],
   "source": [
    "import pandas as pd \n",
    "agosto2014 = pd.read_excel(r\"C:\\Users\\formacio\\Desktop\\ciencia de datos Gabriela\\VentasGroucery_Meses (3).xlsx\",sheet_name='Ventas Agosto 2014')\n",
    "septiembre2014 = pd.read_excel(r\"C:\\Users\\formacio\\Desktop\\ciencia de datos Gabriela\\VentasGroucery_Meses (3).xlsx\",sheet_name='Ventas Septiembre 2014')\n",
    "octubre2014 = pd.read_excel(r\"C:\\Users\\formacio\\Desktop\\ciencia de datos Gabriela\\VentasGroucery_Meses (3).xlsx\",sheet_name='Ventas Octubre 2014')\n",
    "\n",
    "trimestre2 = pd.concat([agosto2014, septiembre2014, octubre2014],ignore_index=True)\n",
    "\n",
    "filtro = trimestre2['Quantity']>10\n",
    "trimestre2 = trimestre2[filtro]\n",
    "trimestre2.sort_values(ascending=True, by='Quantity')\n",
    "\n",
    "trimestre2['Amount'] = trimestre2['Unit Price']* trimestre2['Quantity']\n",
    "\n",
    "suma_monto = trimestre2.groupby(['Ship Country', 'Category']).Amount.sum()\n",
    "suma_monto\n",
    "\n",
    "suma_monto = pd.DataFrame(suma_monto).reset_index()\n",
    "\n",
    " \n",
    "#Guardar directo como fichero de excel\n",
    "suma_monto.to_excel(r\"c:\\temp\\practica30.xlsx\",sheet_name=\"Trimestre 2014\",header=True, index=True)\n",
    "\n",
    "print(\"Terminado con exito\")\n"
   ]
  },
  {
   "cell_type": "code",
   "execution_count": null,
   "id": "b8a9256c",
   "metadata": {},
   "outputs": [],
   "source": [
    "import pandas as pd \n",
    "pedidos = pd.read_excel(r\"C:\\Users\\formacio\\Downloads\\Pedidos (1).xlsx\", sheet_name=\"Pedidos\")\n",
    "\n",
    "detalles_pedidos = pd.read_excel(r\"C:\\Users\\formacio\\Downloads\\Detalles Pedidos (2).xlsx\",sheet_name=\"Detalles Pedidos\")\n",
    "\n",
    "# Combinar los 2 dataframes mediante merge. Necesitamos detene un campo en cada dataframe para hacer match \n",
    "# Los nombres de estos campos no tiene porque llamarse igual, pero los tipos de datos si tienen que ser iguales \n",
    "# El merge solo sirve para combinar 2 consultas a la vez\n",
    "merge_pedidos = pd.merge(pedidos, detalles_pedidos, on=\"Id. de pedido\", how=\"inner\")\n",
    "merge_pedidos\n",
    "\n",
    "#si no se llamaran igual \n",
    "#merge_pedidos = pd.merge(pedidos, detalles_pedidos, left_on=\"Id. de pedido\", right_on=\"Pedido Id\")\n",
    "# el join por defecto es inner y solo une los elementos que coincidan\n",
    "\n"
   ]
  },
  {
   "cell_type": "code",
   "execution_count": null,
   "id": "0c369db9",
   "metadata": {},
   "outputs": [],
   "source": [
    "# Practica 31\n",
    "# Cargaremos y combinaremos los siguientes ficheros de excel, Pedidos, Detalles pedidos, Productos, Categorias,Comerciales.\n",
    "import pandas as pd \n",
    "pedidos = pd.read_excel(r\"C:\\Users\\formacio\\Downloads\\Pedidos.xlsx\", sheet_name=\"Pedidos\")\n",
    "detalles_pedidos = pd.read_excel(r\"C:\\Users\\formacio\\Downloads\\Detalles Pedidos.xlsx\",sheet_name=\"Detalles Pedidos\")\n",
    "productos = pd.read_excel(r\"C:\\Users\\formacio\\Downloads\\Productos.xlsx\", sheet_name=\"Productos\")\n",
    "categorias = pd.read_excel(r\"C:\\Users\\formacio\\Downloads\\Categorías.xlsx\", sheet_name=\"Categorías\")\n",
    "comerciales = pd.read_excel(r\"C:\\Users\\formacio\\Downloads\\Comerciales.xlsx\", sheet_name=\"Comerciales\")\n",
    "\n",
    "merge_pedidos = pd.merge(pedidos, detalles_pedidos, on=\"Id. de pedido\", how=\"inner\")\n",
    "merge_comerciales = pd.merge(merge_pedidos, comerciales, on=\"Id. de Comercial\",how=\"inner\" )\n",
    "merge_productos = pd.merge(merge_comerciales,productos, left_on=\"Producto\", right_on=\"Nombre de producto\")\n",
    "merge_final = pd.merge(merge_productos, categorias, left_on=\"Categoría\", right_on=\"Nombre de categoría\")\n",
    "\n",
    "\n",
    "# Practica 31.1\n",
    "# Realizaremos las transformaciones necesarias para guardar en un fichero de excel un conjunto de datos que contenga el nombre de la categoria \n",
    "# agrupada por suma de importe(Importe = precio unidad * cantidad), numero de pedidos, el promedio de cantidad.\n",
    "merge_final['Importe'] = merge_final['Precio por unidad']*merge_final['Cantidad']\n",
    "\n",
    "suma_importe = round(merge_final.groupby(['Nombre de categoría']).Importe.sum(),2)\n",
    "suma_importe = pd.DataFrame(suma_importe).reset_index()\n",
    "suma_importe\n",
    "\n",
    "\n",
    "pedidos_categoria= round(merge_final.groupby(['Nombre de categoría'])['Id. de pedido'].count(),2)\n",
    "pedidos_categoria = pd.DataFrame(pedidos_categoria).reset_index()\n",
    "pedidos_categoria\n",
    "\n",
    "promedio_categoria= round(merge_final.groupby(['Nombre de categoría']).Cantidad.mean(),2)\n",
    "promedio_categoria = pd.DataFrame(promedio_categoria).reset_index() #reset index para que no copie el indice de python en excel\n",
    "promedio_categoria\n",
    "\n",
    "final = pd.merge(suma_importe,pedidos_categoria,on='Nombre de categoría')\n",
    "final = pd.merge(final,promedio_categoria, on=\"Nombre de categoría\")\n",
    "final\n",
    "\n",
    "final.to_excel(r\"c:\\temp\\final.xlsx\",sheet_name=\"Categorias\",header=True)\n",
    "print(\"Finally\")\n",
    "\n",
    "\n"
   ]
  },
  {
   "cell_type": "code",
   "execution_count": null,
   "id": "9755187b",
   "metadata": {},
   "outputs": [],
   "source": [
    "# Practica 31.2\n",
    "# Realizaremos las transformaciones necesarias para guardar en un fichero de excel un conjunto de datos que contenga el nombre del comercial\n",
    "# agrupada por numero de pedidos.\n",
    "\n",
    "nombre_comercial = merge_final.groupby(['Id. de pedido'])\n",
    "nombre_comercial"
   ]
  },
  {
   "cell_type": "code",
   "execution_count": null,
   "id": "bbfc60ef",
   "metadata": {},
   "outputs": [],
   "source": [
    "# 31.3\n",
    "#Realizaremos las transformaciones necesarias para guardar en un fichero de excel un conjunto de datos que contenga el nombre del mes en letras de la fecha de pedidos, \n",
    "# agrupada por suma de importe."
   ]
  },
  {
   "cell_type": "code",
   "execution_count": null,
   "id": "57cef235",
   "metadata": {},
   "outputs": [],
   "source": [
    "#El accesor de datafram, es acceder a un grupo de metodos mediante un punto \n",
    "merge_final['Apellidos'].str.replace('a','@')\n",
    "#str es el accsesor de los metodos string"
   ]
  },
  {
   "cell_type": "code",
   "execution_count": null,
   "id": "740a38f1",
   "metadata": {},
   "outputs": [],
   "source": [
    "# El accesor de datetime es el dt, ver el mes en letras \n",
    "merge_final['Fecha de pedido'].dt.strftime('%B')"
   ]
  }
 ],
 "metadata": {
  "kernelspec": {
   "display_name": "Python 3",
   "language": "python",
   "name": "python3"
  },
  "language_info": {
   "codemirror_mode": {
    "name": "ipython",
    "version": 3
   },
   "file_extension": ".py",
   "mimetype": "text/x-python",
   "name": "python",
   "nbconvert_exporter": "python",
   "pygments_lexer": "ipython3",
   "version": "3.13.2"
  }
 },
 "nbformat": 4,
 "nbformat_minor": 5
}
